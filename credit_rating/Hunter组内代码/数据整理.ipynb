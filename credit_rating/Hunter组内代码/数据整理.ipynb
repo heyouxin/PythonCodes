{
 "cells": [
  {
   "cell_type": "code",
   "execution_count": 1,
   "metadata": {
    "collapsed": true
   },
   "outputs": [],
   "source": [
    "#!/usr/bin/env python2\n",
    "# -*- coding: utf-8 -*-\n",
    "\"\"\"\n",
    "Created on Sun Mar  4 21:21:32 2018\n",
    "\n",
    "@author: macbook\n",
    "\"\"\"\n",
    "\n",
    "import pandas as pd \n",
    "data = pd.read_csv('/Users/macbook/Desktop/indic_value.csv')\n",
    "grouped = data.groupby('institution_id')"
   ]
  },
  {
   "cell_type": "code",
   "execution_count": 2,
   "metadata": {
    "collapsed": false
   },
   "outputs": [
    {
     "data": {
      "text/plain": [
       "1013"
      ]
     },
     "execution_count": 2,
     "metadata": {},
     "output_type": "execute_result"
    }
   ],
   "source": [
    "len(grouped.groups.keys())"
   ]
  },
  {
   "cell_type": "code",
   "execution_count": 20,
   "metadata": {
    "collapsed": true
   },
   "outputs": [],
   "source": [
    "pp = []"
   ]
  },
  {
   "cell_type": "code",
   "execution_count": 17,
   "metadata": {
    "collapsed": true
   },
   "outputs": [],
   "source": [
    "kk = pd.DataFrame(data['indic_id'].unique())\n",
    "kk.columns = ['indic_id']"
   ]
  },
  {
   "cell_type": "code",
   "execution_count": 25,
   "metadata": {
    "collapsed": true
   },
   "outputs": [],
   "source": [
    "for i in range(len(grouped.groups.keys())):\n",
    "    every = grouped.get_group(grouped.groups.keys()[i])\n",
    "    gg = every.groupby('end_date')\n",
    "    con = []\n",
    "    for m in range(len(gg.groups.keys())):\n",
    "        values = list(gg.get_group(gg.groups.keys()[m])['indic_value'])\n",
    "        df = pd.DataFrame(values)1`\n",
    "         \n",
    "        df['indic_id']= list(gg.get_group(gg.groups.keys()[m])['indic_id'])\n",
    "        merged = pd.merge(df,kk,how='outer',on='indic_id').drop_duplicates('indic_id').sort_values('indic_id')\n",
    "        col = merged['indic_id']\n",
    "        finn = pd.DataFrame([merged[0]])\n",
    "        finn.columns = list(col)\n",
    "        finn['institutioin_id'] = grouped.groups.keys()[i]\n",
    "        finn['date'] = gg.groups.keys()[m]\n",
    "        con.append(finn)\n",
    "    res = pd.concat(con).sort_values('date')\n",
    "    pp.append(res)\n",
    "        "
   ]
  },
  {
   "cell_type": "code",
   "execution_count": 27,
   "metadata": {
    "collapsed": true
   },
   "outputs": [],
   "source": [
    "final = pd.concat(pp)"
   ]
  },
  {
   "cell_type": "code",
   "execution_count": 32,
   "metadata": {
    "collapsed": true
   },
   "outputs": [],
   "source": [
    "#!/usr/bin/env python2\n",
    "# -*- coding: utf-8 -*-\n",
    "\n",
    "\n",
    "from __future__ import division, unicode_literals\n",
    "import pandas as pd\n",
    "import pymysql\n",
    "import pymssql\n",
    "from sqlalchemy import create_engine\n",
    "import re\n",
    "import numpy as np\n",
    "import statsmodels.api as sm\n",
    "from scipy.stats import *\n",
    "from sklearn import preprocessing\n",
    "import datetime\n",
    "import tushare as ts\n",
    "import re\n",
    "\n",
    "gdb = ''\n",
    "ghost = ''\n",
    "guser = ''\n",
    "gpassword = ''\n",
    "gdatabase = ''\n",
    "conn = ''\n",
    "engine = ''\n",
    "\n",
    "\n",
    "\n",
    "def set_sql(gdb, ghost, guser, gpassword, gdatabase):\n",
    "    global db, host, user, password, database, engine, conn\n",
    "    db = gdb\n",
    "    host = ghost\n",
    "    user = guser\n",
    "    password = gpassword\n",
    "    database = gdatabase\n",
    "    engine = set_engine()\n",
    "    conn = set_conn()\n",
    "\n",
    "\n",
    "def set_engine():\n",
    "    global engine\n",
    "    try:\n",
    "        engine.close()\n",
    "    except:\n",
    "        pass\n",
    "    if db.lower() == 'mysql':\n",
    "        engine = create_engine('mysql+pymysql://' + user + ':' + password + '@' + host + '/' + database)\n",
    "    if db.lower() == 'mssql':\n",
    "        engine = create_engine('mssql+pyodbc://' + user + ':' + password + '@' + host + '/' + database)\n",
    "    return engine\n",
    "\n",
    "\n",
    "\n",
    "def set_conn():\n",
    "    if db.lower() == 'mysql':\n",
    "        conn = pymysql.connect(host=host, user=user, password=password, db=database, charset='utf8')\n",
    "    if db.lower() == 'mssql':\n",
    "        conn = pymssql.connect(host=host, user=user, password=password, database=database, charset=\"utf8\")\n",
    "    return conn\n",
    "\n",
    "\n",
    "def execute_sql(sql_str, conn):\n",
    "    cursor = conn.cursor()\n",
    "    cursor.execute(sql_str)\n",
    "    conn.commit()\n",
    "\n",
    "\n",
    "\n",
    "def search_sql(sql_str):\n",
    "    s = pd.read_sql(sql_str, conn)\n",
    "    return s\n",
    "\n",
    "\n",
    "\n",
    "def to_sql(df, table_name):\n",
    "    try:\n",
    "        df.to_sql(table_name, engine, if_exists='append')\n",
    "    except IOError as e:\n",
    "        print('to sql error! \\n ' + e)"
   ]
  },
  {
   "cell_type": "code",
   "execution_count": 33,
   "metadata": {
    "collapsed": true
   },
   "outputs": [],
   "source": [
    "set_sql('mysql', '172.16.8.184', 'qc_data', 'wisesoe.qc', 'qc_data')"
   ]
  },
  {
   "cell_type": "code",
   "execution_count": 35,
   "metadata": {
    "collapsed": true
   },
   "outputs": [],
   "source": [
    "final.to_csv('/Users/macbook/Desktop/pyindic.csv')"
   ]
  },
  {
   "cell_type": "code",
   "execution_count": 36,
   "metadata": {
    "collapsed": false
   },
   "outputs": [
    {
     "ename": "TypeError",
     "evalue": "'module' object is not callable",
     "output_type": "error",
     "traceback": [
      "\u001b[0;31m---------------------------------------------------------------------------\u001b[0m",
      "\u001b[0;31mTypeError\u001b[0m                                 Traceback (most recent call last)",
      "\u001b[0;32m<ipython-input-36-6fa7c79635e6>\u001b[0m in \u001b[0;36m<module>\u001b[0;34m()\u001b[0m\n\u001b[0;32m----> 1\u001b[0;31m \u001b[0mnp\u001b[0m\u001b[0;34m.\u001b[0m\u001b[0mrandom\u001b[0m\u001b[0;34m(\u001b[0m\u001b[0;36m0\u001b[0m\u001b[0;34m,\u001b[0m\u001b[0;36m1\u001b[0m\u001b[0;34m,\u001b[0m\u001b[0;36m100\u001b[0m\u001b[0;34m)\u001b[0m\u001b[0;34m\u001b[0m\u001b[0m\n\u001b[0m",
      "\u001b[0;31mTypeError\u001b[0m: 'module' object is not callable"
     ]
    }
   ],
   "source": [
    "np.random(0,1,100)"
   ]
  },
  {
   "cell_type": "code",
   "execution_count": null,
   "metadata": {
    "collapsed": true
   },
   "outputs": [],
   "source": []
  }
 ],
 "metadata": {
  "kernelspec": {
   "display_name": "Python 3",
   "language": "python",
   "name": "python3"
  },
  "language_info": {
   "codemirror_mode": {
    "name": "ipython",
    "version": 3
   },
   "file_extension": ".py",
   "mimetype": "text/x-python",
   "name": "python",
   "nbconvert_exporter": "python",
   "pygments_lexer": "ipython3",
   "version": "3.6.0"
  }
 },
 "nbformat": 4,
 "nbformat_minor": 2
}

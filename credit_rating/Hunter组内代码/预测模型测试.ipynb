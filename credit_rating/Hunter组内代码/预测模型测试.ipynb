{
 "cells": [
  {
   "cell_type": "code",
   "execution_count": 3,
   "metadata": {
    "collapsed": true
   },
   "outputs": [],
   "source": [
    "import pandas as pd\n",
    "import statsmodels.api as sm\n",
    "fil = pd.read_excel('/Users/macbook/Desktop/bond_finance_2.xlsx')"
   ]
  },
  {
   "cell_type": "code",
   "execution_count": 218,
   "metadata": {
    "collapsed": true
   },
   "outputs": [],
   "source": [
    "fil = fil[fil['listed_date']>='2011-01-01']"
   ]
  },
  {
   "cell_type": "code",
   "execution_count": 219,
   "metadata": {},
   "outputs": [],
   "source": [
    "set_sql('mysql','210.34.5.184','group1','Group1.321','group1')\n",
    "test1 = search_sql('select * from static_bond')"
   ]
  },
  {
   "cell_type": "code",
   "execution_count": 220,
   "metadata": {
    "collapsed": true
   },
   "outputs": [],
   "source": [
    "com = search_sql('select * from static_institution')"
   ]
  },
  {
   "cell_type": "code",
   "execution_count": 221,
   "metadata": {},
   "outputs": [],
   "source": [
    "fil['institution_id'] = map(unicode,list(fil['institution_id']))"
   ]
  },
  {
   "cell_type": "code",
   "execution_count": 222,
   "metadata": {},
   "outputs": [],
   "source": [
    "fik = pd.merge(fil,com,on='institution_id')"
   ]
  },
  {
   "cell_type": "code",
   "execution_count": 227,
   "metadata": {},
   "outputs": [
    {
     "data": {
      "text/plain": [
       "(17328, 122)"
      ]
     },
     "execution_count": 227,
     "metadata": {},
     "output_type": "execute_result"
    }
   ],
   "source": [
    "fik.shape"
   ]
  },
  {
   "cell_type": "code",
   "execution_count": 223,
   "metadata": {},
   "outputs": [],
   "source": [
    "da1 = pd.DataFrame({'security_id':fik['security_id'],'date':fik['listed_date']})"
   ]
  },
  {
   "cell_type": "code",
   "execution_count": 224,
   "metadata": {
    "collapsed": true
   },
   "outputs": [],
   "source": [
    "da2 = pd.DataFrame({'security_id':fik['security_id'],'date':fik['delisted_date']})"
   ]
  },
  {
   "cell_type": "code",
   "execution_count": 225,
   "metadata": {},
   "outputs": [],
   "source": [
    "add1 = pd.merge(pd.merge(da1,dates),pd.merge(da2,dates),on='security_id')"
   ]
  },
  {
   "cell_type": "code",
   "execution_count": 229,
   "metadata": {},
   "outputs": [],
   "source": [
    "fik = pd.merge(add1,fik,on='security_id')"
   ]
  },
  {
   "cell_type": "code",
   "execution_count": 235,
   "metadata": {},
   "outputs": [
    {
     "data": {
      "text/plain": [
       "Index([u'date_x', u'security_id', u'index_x', u'isOpen_x', u'number1_x',\n",
       "       u'week_x', u'year_x', u'month_x', u'yw_x', u'ym_x',\n",
       "       ...\n",
       "       u'outward_y', u'net_asset_y', u'guarantee_rate_y', u'revenue_y',\n",
       "       u'guarantee_bond_y', u'level1_id_y', u'level2_id_y', u'rating_date_y',\n",
       "       u'level_name_y', u'warning_state_y'],\n",
       "      dtype='object', length=140)"
      ]
     },
     "execution_count": 235,
     "metadata": {},
     "output_type": "execute_result"
    }
   ],
   "source": [
    "fik.columns"
   ]
  },
  {
   "cell_type": "code",
   "execution_count": 248,
   "metadata": {},
   "outputs": [
    {
     "data": {
      "text/plain": [
       "0.938842076651264"
      ]
     },
     "execution_count": 248,
     "metadata": {},
     "output_type": "execute_result"
    }
   ],
   "source": [
    "len(fik[fik['ym_x']>='2013-09'])/14716"
   ]
  },
  {
   "cell_type": "code",
   "execution_count": 254,
   "metadata": {},
   "outputs": [
    {
     "data": {
      "text/plain": [
       "0    13761\n",
       "1       55\n",
       "Name: default, dtype: int64"
      ]
     },
     "execution_count": 254,
     "metadata": {},
     "output_type": "execute_result"
    }
   ],
   "source": [
    "fik[fik['ym_x']>='2013-09']['default'].value_counts()\n"
   ]
  },
  {
   "cell_type": "code",
   "execution_count": 259,
   "metadata": {},
   "outputs": [
    {
     "data": {
      "text/plain": [
       "0    395\n",
       "1      6\n",
       "Name: default, dtype: int64"
      ]
     },
     "execution_count": 259,
     "metadata": {},
     "output_type": "execute_result"
    }
   ],
   "source": [
    "fik[fik['ym_x']<='2012-11']['default'].value_counts()"
   ]
  },
  {
   "cell_type": "code",
   "execution_count": 55,
   "metadata": {
    "collapsed": true
   },
   "outputs": [],
   "source": [
    "#!/usr/bin/env python2\n",
    "# -*- coding: utf-8 -*-\n",
    "\n",
    "\n",
    "from __future__ import division, unicode_literals\n",
    "import pandas as pd\n",
    "import pymysql\n",
    "import pymssql\n",
    "from sqlalchemy import create_engine\n",
    "import re\n",
    "import numpy as np\n",
    "import statsmodels.api as sm\n",
    "from scipy.stats import *\n",
    "from sklearn import preprocessing\n",
    "import datetime\n",
    "import tushare as ts\n",
    "import re\n",
    "\n",
    "gdb = ''\n",
    "ghost = ''\n",
    "guser = ''\n",
    "gpassword = ''\n",
    "gdatabase = ''\n",
    "conn = ''\n",
    "engine = ''\n",
    "\n",
    "\n",
    "\n",
    "def set_sql(gdb, ghost, guser, gpassword, gdatabase):\n",
    "    global db, host, user, password, database, engine, conn\n",
    "    db = gdb\n",
    "    host = ghost\n",
    "    user = guser\n",
    "    password = gpassword\n",
    "    database = gdatabase\n",
    "    engine = set_engine()\n",
    "    conn = set_conn()\n",
    "\n",
    "\n",
    "def set_engine():\n",
    "    global engine\n",
    "    try:\n",
    "        engine.close()\n",
    "    except:\n",
    "        pass\n",
    "    if db.lower() == 'mysql':\n",
    "        engine = create_engine('mysql+pymysql://' + user + ':' + password + '@' + host + '/' + database)\n",
    "    if db.lower() == 'mssql':\n",
    "        engine = create_engine('mssql+pyodbc://' + user + ':' + password + '@' + host + '/' + database)\n",
    "    return engine\n",
    "\n",
    "\n",
    "\n",
    "def set_conn():\n",
    "    if db.lower() == 'mysql':\n",
    "        conn = pymysql.connect(host=host, user=user, password=password, db=database, charset='utf8')\n",
    "    if db.lower() == 'mssql':\n",
    "        conn = pymssql.connect(host=host, user=user, password=password, database=database, charset=\"utf8\")\n",
    "    return conn\n",
    "\n",
    "\n",
    "def execute_sql(sql_str, conn):\n",
    "    cursor = conn.cursor()\n",
    "    cursor.execute(sql_str)\n",
    "    conn.commit()\n",
    "\n",
    "\n",
    "\n",
    "def search_sql(sql_str):\n",
    "    s = pd.read_sql(sql_str, conn)\n",
    "    return s\n",
    "\n",
    "\n",
    "\n",
    "def to_sql(df, table_name):\n",
    "    try:\n",
    "        df.to_sql(table_name, engine, if_exists='append')\n",
    "    except IOError as e:\n",
    "        print('to sql error! \\n ' + e)"
   ]
  },
  {
   "cell_type": "code",
   "execution_count": 58,
   "metadata": {},
   "outputs": [],
   "source": [
    "set_sql('mysql', '172.16.8.184', 'qc_data', 'wisesoe.qc', 'qc_data')\n",
    "data = search_sql('select * from induindextest')"
   ]
  },
  {
   "cell_type": "code",
   "execution_count": 59,
   "metadata": {
    "collapsed": true
   },
   "outputs": [],
   "source": [
    "data['date'] = map(unicode,list(data['date']))"
   ]
  },
  {
   "cell_type": "code",
   "execution_count": 60,
   "metadata": {
    "collapsed": true
   },
   "outputs": [],
   "source": [
    "dates = search_sql('select * from dates')\n",
    "macro = search_sql('select * from macro')\n",
    "macro = pd.merge(macro,dates,on='date')\n",
    "epu = search_sql('select * from EPU')[1:]\n",
    "epu.columns = ['year','month','epu']\n",
    "epu['epu'] = map(float,list(epu['epu']))\n",
    "ym = []\n",
    "for i in range(len(epu)):\n",
    "    year = int(epu.iloc[i]['year'])\n",
    "    month = int(epu.iloc[i]['month'])\n",
    "    if month<10:\n",
    "        ym.append(str(year)+'0'+str(month))\n",
    "    else:\n",
    "        ym.append(str(year)+str(month))\n",
    "epu['ym'] = ym\n",
    "del epu['year']\n",
    "del epu['month']\n",
    "index = search_sql('select ret,date from zhishu where qtid=\"000300.SH\" and date>=\"2011-01-01\"')\n",
    "index['date'] = map(str,list(index['date']))\n",
    "index = pd.merge(index,dates,on='date')"
   ]
  },
  {
   "cell_type": "code",
   "execution_count": 61,
   "metadata": {
    "collapsed": true
   },
   "outputs": [],
   "source": [
    "data = pd.merge(data,dates,on='date')"
   ]
  },
  {
   "cell_type": "code",
   "execution_count": 84,
   "metadata": {
    "collapsed": true
   },
   "outputs": [],
   "source": [
    "data = pd.merge(data,epu)\n",
    "fin =pd.merge(data,index,on='date')"
   ]
  },
  {
   "cell_type": "code",
   "execution_count": 86,
   "metadata": {},
   "outputs": [],
   "source": [
    "betas = []\n",
    "for i in fin.groupby('indu').groups.keys():\n",
    "    hangye = fin.groupby('indu').get_group(i).groupby('ym_y')['ret_x'].sum().values[1:]\n",
    "    zhishu = fin.groupby('indu').get_group(i).groupby('ym_y')['ret_y'].sum().values[1:]\n",
    "    bodong = fin.groupby('indu').get_group(i).groupby('ym_y')['ret_y'].std().values\n",
    "    bodong = pd.Series(bodong).fillna(pd.Series(bodong).mean())[:-1]\n",
    "    epuu = fin.groupby('indu').get_group(i).groupby('ym_y')['epu'].mean().values[:-1]\n",
    "    yujing = macro[240:-4]['yujing']\n",
    "    yizhi = macro[240:-4]['yizhi']\n",
    "    #smb = finn.groupby('indu').get_group(i).groupby('ym_x')['SMB'].sum().values\n",
    "    #hml = finn.groupby('indu').get_group(i).groupby('ym_x')['HML'].sum().values\n",
    "    xs = np.column_stack([zhishu,np.log(bodong),np.log(epuu),np.log(yujing),np.log(yizhi)])\n",
    "    kong = [i]\n",
    "    model = sm.OLS(hangye,sm.add_constant(xs)).fit(method='qr')\n",
    "    for i in range(len(model.params)):\n",
    "        kong.append(model.params[i])\n",
    "    kong.append(abs(bodong.std()*model.params[2]))\n",
    "    kong.append(abs(epuu.std()*model.params[3]))\n",
    "    kong.append(abs(yujing.std()*model.params[4]))\n",
    "    kong.append(abs(yizhi.std()*model.params[5]))\n",
    "    betas.append(kong)\n",
    "    \n"
   ]
  },
  {
   "cell_type": "code",
   "execution_count": 87,
   "metadata": {},
   "outputs": [
    {
     "data": {
      "text/html": [
       "<div>\n",
       "<table border=\"1\" class=\"dataframe\">\n",
       "  <thead>\n",
       "    <tr style=\"text-align: right;\">\n",
       "      <th></th>\n",
       "      <th>0</th>\n",
       "      <th>1</th>\n",
       "      <th>2</th>\n",
       "      <th>3</th>\n",
       "      <th>4</th>\n",
       "      <th>5</th>\n",
       "      <th>6</th>\n",
       "      <th>7</th>\n",
       "      <th>8</th>\n",
       "      <th>9</th>\n",
       "      <th>10</th>\n",
       "    </tr>\n",
       "  </thead>\n",
       "  <tbody>\n",
       "    <tr>\n",
       "      <th>0</th>\n",
       "      <td>42</td>\n",
       "      <td>2.844108</td>\n",
       "      <td>1.164800</td>\n",
       "      <td>0.035624</td>\n",
       "      <td>-0.015950</td>\n",
       "      <td>0.087450</td>\n",
       "      <td>-0.650783</td>\n",
       "      <td>0.000247</td>\n",
       "      <td>2.188177</td>\n",
       "      <td>1.182075</td>\n",
       "      <td>1.978757</td>\n",
       "    </tr>\n",
       "    <tr>\n",
       "      <th>1</th>\n",
       "      <td>50</td>\n",
       "      <td>1.110832</td>\n",
       "      <td>1.065250</td>\n",
       "      <td>0.029596</td>\n",
       "      <td>-0.014096</td>\n",
       "      <td>-0.038421</td>\n",
       "      <td>-0.158686</td>\n",
       "      <td>0.000205</td>\n",
       "      <td>1.933846</td>\n",
       "      <td>0.519348</td>\n",
       "      <td>0.482497</td>\n",
       "    </tr>\n",
       "    <tr>\n",
       "      <th>2</th>\n",
       "      <td>60</td>\n",
       "      <td>7.980346</td>\n",
       "      <td>0.983145</td>\n",
       "      <td>0.046659</td>\n",
       "      <td>-0.031166</td>\n",
       "      <td>0.285767</td>\n",
       "      <td>-1.936052</td>\n",
       "      <td>0.000323</td>\n",
       "      <td>4.275640</td>\n",
       "      <td>3.862753</td>\n",
       "      <td>5.886722</td>\n",
       "    </tr>\n",
       "    <tr>\n",
       "      <th>3</th>\n",
       "      <td>61</td>\n",
       "      <td>8.015896</td>\n",
       "      <td>1.059407</td>\n",
       "      <td>0.062690</td>\n",
       "      <td>-0.027188</td>\n",
       "      <td>0.282348</td>\n",
       "      <td>-1.929625</td>\n",
       "      <td>0.000434</td>\n",
       "      <td>3.729995</td>\n",
       "      <td>3.816537</td>\n",
       "      <td>5.867179</td>\n",
       "    </tr>\n",
       "    <tr>\n",
       "      <th>4</th>\n",
       "      <td>62</td>\n",
       "      <td>5.320435</td>\n",
       "      <td>1.071581</td>\n",
       "      <td>0.052957</td>\n",
       "      <td>-0.041754</td>\n",
       "      <td>0.123371</td>\n",
       "      <td>-1.177994</td>\n",
       "      <td>0.000367</td>\n",
       "      <td>5.728301</td>\n",
       "      <td>1.667630</td>\n",
       "      <td>3.581785</td>\n",
       "    </tr>\n",
       "    <tr>\n",
       "      <th>5</th>\n",
       "      <td>63</td>\n",
       "      <td>4.454954</td>\n",
       "      <td>1.005055</td>\n",
       "      <td>0.062646</td>\n",
       "      <td>-0.028747</td>\n",
       "      <td>0.158509</td>\n",
       "      <td>-1.028500</td>\n",
       "      <td>0.000434</td>\n",
       "      <td>3.943810</td>\n",
       "      <td>2.142594</td>\n",
       "      <td>3.127237</td>\n",
       "    </tr>\n",
       "    <tr>\n",
       "      <th>6</th>\n",
       "      <td>24</td>\n",
       "      <td>4.641354</td>\n",
       "      <td>1.066442</td>\n",
       "      <td>0.029143</td>\n",
       "      <td>-0.024361</td>\n",
       "      <td>0.111083</td>\n",
       "      <td>-1.063284</td>\n",
       "      <td>0.000202</td>\n",
       "      <td>3.342090</td>\n",
       "      <td>1.501530</td>\n",
       "      <td>3.233000</td>\n",
       "    </tr>\n",
       "    <tr>\n",
       "      <th>7</th>\n",
       "      <td>25</td>\n",
       "      <td>5.107646</td>\n",
       "      <td>1.055386</td>\n",
       "      <td>0.048222</td>\n",
       "      <td>-0.026306</td>\n",
       "      <td>0.129194</td>\n",
       "      <td>-1.161662</td>\n",
       "      <td>0.000334</td>\n",
       "      <td>3.608959</td>\n",
       "      <td>1.746333</td>\n",
       "      <td>3.532126</td>\n",
       "    </tr>\n",
       "    <tr>\n",
       "      <th>8</th>\n",
       "      <td>26</td>\n",
       "      <td>5.413064</td>\n",
       "      <td>1.056854</td>\n",
       "      <td>0.031779</td>\n",
       "      <td>-0.034658</td>\n",
       "      <td>0.100622</td>\n",
       "      <td>-1.207499</td>\n",
       "      <td>0.000220</td>\n",
       "      <td>4.754728</td>\n",
       "      <td>1.360126</td>\n",
       "      <td>3.671497</td>\n",
       "    </tr>\n",
       "    <tr>\n",
       "      <th>9</th>\n",
       "      <td>27</td>\n",
       "      <td>5.809781</td>\n",
       "      <td>1.057102</td>\n",
       "      <td>0.044664</td>\n",
       "      <td>-0.023414</td>\n",
       "      <td>0.156313</td>\n",
       "      <td>-1.348866</td>\n",
       "      <td>0.000309</td>\n",
       "      <td>3.212132</td>\n",
       "      <td>2.112907</td>\n",
       "      <td>4.101336</td>\n",
       "    </tr>\n",
       "    <tr>\n",
       "      <th>10</th>\n",
       "      <td>20</td>\n",
       "      <td>0.493659</td>\n",
       "      <td>1.008173</td>\n",
       "      <td>0.017851</td>\n",
       "      <td>-0.011798</td>\n",
       "      <td>-0.014268</td>\n",
       "      <td>-0.061050</td>\n",
       "      <td>0.000124</td>\n",
       "      <td>1.618569</td>\n",
       "      <td>0.192860</td>\n",
       "      <td>0.185627</td>\n",
       "    </tr>\n",
       "    <tr>\n",
       "      <th>11</th>\n",
       "      <td>21</td>\n",
       "      <td>1.703483</td>\n",
       "      <td>1.092655</td>\n",
       "      <td>-0.006730</td>\n",
       "      <td>-0.018284</td>\n",
       "      <td>0.007751</td>\n",
       "      <td>-0.364078</td>\n",
       "      <td>0.000047</td>\n",
       "      <td>2.508348</td>\n",
       "      <td>0.104769</td>\n",
       "      <td>1.107009</td>\n",
       "    </tr>\n",
       "    <tr>\n",
       "      <th>12</th>\n",
       "      <td>22</td>\n",
       "      <td>5.345901</td>\n",
       "      <td>1.040163</td>\n",
       "      <td>0.038335</td>\n",
       "      <td>-0.024464</td>\n",
       "      <td>0.146342</td>\n",
       "      <td>-1.242124</td>\n",
       "      <td>0.000266</td>\n",
       "      <td>3.356257</td>\n",
       "      <td>1.978126</td>\n",
       "      <td>3.776776</td>\n",
       "    </tr>\n",
       "    <tr>\n",
       "      <th>13</th>\n",
       "      <td>23</td>\n",
       "      <td>3.377660</td>\n",
       "      <td>1.118340</td>\n",
       "      <td>0.025641</td>\n",
       "      <td>-0.019155</td>\n",
       "      <td>0.046331</td>\n",
       "      <td>-0.733494</td>\n",
       "      <td>0.000178</td>\n",
       "      <td>2.627835</td>\n",
       "      <td>0.626257</td>\n",
       "      <td>2.230248</td>\n",
       "    </tr>\n",
       "    <tr>\n",
       "      <th>14</th>\n",
       "      <td>28</td>\n",
       "      <td>6.183830</td>\n",
       "      <td>1.098582</td>\n",
       "      <td>0.031346</td>\n",
       "      <td>-0.036165</td>\n",
       "      <td>0.224176</td>\n",
       "      <td>-1.493788</td>\n",
       "      <td>0.000217</td>\n",
       "      <td>4.961497</td>\n",
       "      <td>3.030224</td>\n",
       "      <td>4.541981</td>\n",
       "    </tr>\n",
       "    <tr>\n",
       "      <th>15</th>\n",
       "      <td>40</td>\n",
       "      <td>-2.993148</td>\n",
       "      <td>0.825299</td>\n",
       "      <td>-0.002042</td>\n",
       "      <td>0.009880</td>\n",
       "      <td>-0.132774</td>\n",
       "      <td>0.771310</td>\n",
       "      <td>0.000014</td>\n",
       "      <td>1.355477</td>\n",
       "      <td>1.794731</td>\n",
       "      <td>2.345230</td>\n",
       "    </tr>\n",
       "    <tr>\n",
       "      <th>16</th>\n",
       "      <td>41</td>\n",
       "      <td>-2.826790</td>\n",
       "      <td>1.515779</td>\n",
       "      <td>0.002621</td>\n",
       "      <td>0.001122</td>\n",
       "      <td>-0.103061</td>\n",
       "      <td>0.721668</td>\n",
       "      <td>0.000018</td>\n",
       "      <td>0.153926</td>\n",
       "      <td>1.393090</td>\n",
       "      <td>2.194288</td>\n",
       "    </tr>\n",
       "    <tr>\n",
       "      <th>17</th>\n",
       "      <td>70</td>\n",
       "      <td>5.596175</td>\n",
       "      <td>1.158796</td>\n",
       "      <td>0.041622</td>\n",
       "      <td>-0.021375</td>\n",
       "      <td>0.200512</td>\n",
       "      <td>-1.350037</td>\n",
       "      <td>0.000288</td>\n",
       "      <td>2.932432</td>\n",
       "      <td>2.710345</td>\n",
       "      <td>4.104894</td>\n",
       "    </tr>\n",
       "    <tr>\n",
       "      <th>18</th>\n",
       "      <td>11</td>\n",
       "      <td>-1.071848</td>\n",
       "      <td>1.050078</td>\n",
       "      <td>-0.004226</td>\n",
       "      <td>-0.000200</td>\n",
       "      <td>-0.091594</td>\n",
       "      <td>0.318953</td>\n",
       "      <td>0.000029</td>\n",
       "      <td>0.027467</td>\n",
       "      <td>1.238088</td>\n",
       "      <td>0.969801</td>\n",
       "    </tr>\n",
       "    <tr>\n",
       "      <th>19</th>\n",
       "      <td>10</td>\n",
       "      <td>4.889440</td>\n",
       "      <td>0.989377</td>\n",
       "      <td>0.028691</td>\n",
       "      <td>-0.022386</td>\n",
       "      <td>0.154408</td>\n",
       "      <td>-1.163112</td>\n",
       "      <td>0.000199</td>\n",
       "      <td>3.071111</td>\n",
       "      <td>2.087149</td>\n",
       "      <td>3.536534</td>\n",
       "    </tr>\n",
       "    <tr>\n",
       "      <th>20</th>\n",
       "      <td>12</td>\n",
       "      <td>7.486421</td>\n",
       "      <td>1.167399</td>\n",
       "      <td>0.034328</td>\n",
       "      <td>-0.018572</td>\n",
       "      <td>0.300224</td>\n",
       "      <td>-1.870220</td>\n",
       "      <td>0.000238</td>\n",
       "      <td>2.547923</td>\n",
       "      <td>4.058176</td>\n",
       "      <td>5.686553</td>\n",
       "    </tr>\n",
       "    <tr>\n",
       "      <th>21</th>\n",
       "      <td>33</td>\n",
       "      <td>7.825779</td>\n",
       "      <td>0.958486</td>\n",
       "      <td>0.044349</td>\n",
       "      <td>-0.028693</td>\n",
       "      <td>0.262747</td>\n",
       "      <td>-1.885923</td>\n",
       "      <td>0.000307</td>\n",
       "      <td>3.936450</td>\n",
       "      <td>3.551595</td>\n",
       "      <td>5.734299</td>\n",
       "    </tr>\n",
       "    <tr>\n",
       "      <th>22</th>\n",
       "      <td>32</td>\n",
       "      <td>1.364830</td>\n",
       "      <td>0.973080</td>\n",
       "      <td>0.040331</td>\n",
       "      <td>-0.026367</td>\n",
       "      <td>-0.048491</td>\n",
       "      <td>-0.179800</td>\n",
       "      <td>0.000279</td>\n",
       "      <td>3.617383</td>\n",
       "      <td>0.655462</td>\n",
       "      <td>0.546695</td>\n",
       "    </tr>\n",
       "    <tr>\n",
       "      <th>23</th>\n",
       "      <td>31</td>\n",
       "      <td>3.298202</td>\n",
       "      <td>1.071949</td>\n",
       "      <td>0.030150</td>\n",
       "      <td>-0.016070</td>\n",
       "      <td>0.095302</td>\n",
       "      <td>-0.764162</td>\n",
       "      <td>0.000209</td>\n",
       "      <td>2.204683</td>\n",
       "      <td>1.288212</td>\n",
       "      <td>2.323496</td>\n",
       "    </tr>\n",
       "    <tr>\n",
       "      <th>24</th>\n",
       "      <td>30</td>\n",
       "      <td>7.168256</td>\n",
       "      <td>1.024156</td>\n",
       "      <td>0.044512</td>\n",
       "      <td>-0.019596</td>\n",
       "      <td>0.268839</td>\n",
       "      <td>-1.758471</td>\n",
       "      <td>0.000308</td>\n",
       "      <td>2.688337</td>\n",
       "      <td>3.633936</td>\n",
       "      <td>5.346772</td>\n",
       "    </tr>\n",
       "    <tr>\n",
       "      <th>25</th>\n",
       "      <td>37</td>\n",
       "      <td>2.314695</td>\n",
       "      <td>0.991884</td>\n",
       "      <td>0.039490</td>\n",
       "      <td>-0.019337</td>\n",
       "      <td>0.007314</td>\n",
       "      <td>-0.450511</td>\n",
       "      <td>0.000274</td>\n",
       "      <td>2.652808</td>\n",
       "      <td>0.098859</td>\n",
       "      <td>1.369815</td>\n",
       "    </tr>\n",
       "    <tr>\n",
       "      <th>26</th>\n",
       "      <td>36</td>\n",
       "      <td>2.907196</td>\n",
       "      <td>0.961074</td>\n",
       "      <td>0.023664</td>\n",
       "      <td>-0.019203</td>\n",
       "      <td>0.055804</td>\n",
       "      <td>-0.642747</td>\n",
       "      <td>0.000164</td>\n",
       "      <td>2.634503</td>\n",
       "      <td>0.754309</td>\n",
       "      <td>1.954323</td>\n",
       "    </tr>\n",
       "    <tr>\n",
       "      <th>27</th>\n",
       "      <td>35</td>\n",
       "      <td>4.312551</td>\n",
       "      <td>0.893112</td>\n",
       "      <td>0.035777</td>\n",
       "      <td>-0.027560</td>\n",
       "      <td>0.130745</td>\n",
       "      <td>-0.999509</td>\n",
       "      <td>0.000248</td>\n",
       "      <td>3.780977</td>\n",
       "      <td>1.767297</td>\n",
       "      <td>3.039086</td>\n",
       "    </tr>\n",
       "    <tr>\n",
       "      <th>28</th>\n",
       "      <td>34</td>\n",
       "      <td>1.502499</td>\n",
       "      <td>0.974264</td>\n",
       "      <td>0.038550</td>\n",
       "      <td>-0.029136</td>\n",
       "      <td>-0.071567</td>\n",
       "      <td>-0.186194</td>\n",
       "      <td>0.000267</td>\n",
       "      <td>3.997164</td>\n",
       "      <td>0.967383</td>\n",
       "      <td>0.566139</td>\n",
       "    </tr>\n",
       "  </tbody>\n",
       "</table>\n",
       "</div>"
      ],
      "text/plain": [
       "    0         1         2         3         4         5         6         7   \\\n",
       "0   42  2.844108  1.164800  0.035624 -0.015950  0.087450 -0.650783  0.000247   \n",
       "1   50  1.110832  1.065250  0.029596 -0.014096 -0.038421 -0.158686  0.000205   \n",
       "2   60  7.980346  0.983145  0.046659 -0.031166  0.285767 -1.936052  0.000323   \n",
       "3   61  8.015896  1.059407  0.062690 -0.027188  0.282348 -1.929625  0.000434   \n",
       "4   62  5.320435  1.071581  0.052957 -0.041754  0.123371 -1.177994  0.000367   \n",
       "5   63  4.454954  1.005055  0.062646 -0.028747  0.158509 -1.028500  0.000434   \n",
       "6   24  4.641354  1.066442  0.029143 -0.024361  0.111083 -1.063284  0.000202   \n",
       "7   25  5.107646  1.055386  0.048222 -0.026306  0.129194 -1.161662  0.000334   \n",
       "8   26  5.413064  1.056854  0.031779 -0.034658  0.100622 -1.207499  0.000220   \n",
       "9   27  5.809781  1.057102  0.044664 -0.023414  0.156313 -1.348866  0.000309   \n",
       "10  20  0.493659  1.008173  0.017851 -0.011798 -0.014268 -0.061050  0.000124   \n",
       "11  21  1.703483  1.092655 -0.006730 -0.018284  0.007751 -0.364078  0.000047   \n",
       "12  22  5.345901  1.040163  0.038335 -0.024464  0.146342 -1.242124  0.000266   \n",
       "13  23  3.377660  1.118340  0.025641 -0.019155  0.046331 -0.733494  0.000178   \n",
       "14  28  6.183830  1.098582  0.031346 -0.036165  0.224176 -1.493788  0.000217   \n",
       "15  40 -2.993148  0.825299 -0.002042  0.009880 -0.132774  0.771310  0.000014   \n",
       "16  41 -2.826790  1.515779  0.002621  0.001122 -0.103061  0.721668  0.000018   \n",
       "17  70  5.596175  1.158796  0.041622 -0.021375  0.200512 -1.350037  0.000288   \n",
       "18  11 -1.071848  1.050078 -0.004226 -0.000200 -0.091594  0.318953  0.000029   \n",
       "19  10  4.889440  0.989377  0.028691 -0.022386  0.154408 -1.163112  0.000199   \n",
       "20  12  7.486421  1.167399  0.034328 -0.018572  0.300224 -1.870220  0.000238   \n",
       "21  33  7.825779  0.958486  0.044349 -0.028693  0.262747 -1.885923  0.000307   \n",
       "22  32  1.364830  0.973080  0.040331 -0.026367 -0.048491 -0.179800  0.000279   \n",
       "23  31  3.298202  1.071949  0.030150 -0.016070  0.095302 -0.764162  0.000209   \n",
       "24  30  7.168256  1.024156  0.044512 -0.019596  0.268839 -1.758471  0.000308   \n",
       "25  37  2.314695  0.991884  0.039490 -0.019337  0.007314 -0.450511  0.000274   \n",
       "26  36  2.907196  0.961074  0.023664 -0.019203  0.055804 -0.642747  0.000164   \n",
       "27  35  4.312551  0.893112  0.035777 -0.027560  0.130745 -0.999509  0.000248   \n",
       "28  34  1.502499  0.974264  0.038550 -0.029136 -0.071567 -0.186194  0.000267   \n",
       "\n",
       "          8         9         10  \n",
       "0   2.188177  1.182075  1.978757  \n",
       "1   1.933846  0.519348  0.482497  \n",
       "2   4.275640  3.862753  5.886722  \n",
       "3   3.729995  3.816537  5.867179  \n",
       "4   5.728301  1.667630  3.581785  \n",
       "5   3.943810  2.142594  3.127237  \n",
       "6   3.342090  1.501530  3.233000  \n",
       "7   3.608959  1.746333  3.532126  \n",
       "8   4.754728  1.360126  3.671497  \n",
       "9   3.212132  2.112907  4.101336  \n",
       "10  1.618569  0.192860  0.185627  \n",
       "11  2.508348  0.104769  1.107009  \n",
       "12  3.356257  1.978126  3.776776  \n",
       "13  2.627835  0.626257  2.230248  \n",
       "14  4.961497  3.030224  4.541981  \n",
       "15  1.355477  1.794731  2.345230  \n",
       "16  0.153926  1.393090  2.194288  \n",
       "17  2.932432  2.710345  4.104894  \n",
       "18  0.027467  1.238088  0.969801  \n",
       "19  3.071111  2.087149  3.536534  \n",
       "20  2.547923  4.058176  5.686553  \n",
       "21  3.936450  3.551595  5.734299  \n",
       "22  3.617383  0.655462  0.546695  \n",
       "23  2.204683  1.288212  2.323496  \n",
       "24  2.688337  3.633936  5.346772  \n",
       "25  2.652808  0.098859  1.369815  \n",
       "26  2.634503  0.754309  1.954323  \n",
       "27  3.780977  1.767297  3.039086  \n",
       "28  3.997164  0.967383  0.566139  "
      ]
     },
     "execution_count": 87,
     "metadata": {},
     "output_type": "execute_result"
    }
   ],
   "source": [
    "pd.DataFrame(betas)"
   ]
  },
  {
   "cell_type": "code",
   "execution_count": 242,
   "metadata": {},
   "outputs": [
    {
     "data": {
      "text/plain": [
       "array([u'201103', u'201104', u'201105', u'201106', u'201107', u'201108',\n",
       "       u'201109', u'201110', u'201111', u'201112', u'201201', u'201202',\n",
       "       u'201203', u'201204', u'201205', u'201206', u'201207', u'201208',\n",
       "       u'201209', u'201210', u'201211', u'201212', u'201301', u'201302',\n",
       "       u'201303', u'201304', u'201305', u'201306', u'201307', u'201308',\n",
       "       u'201309'], dtype=object)"
      ]
     },
     "execution_count": 242,
     "metadata": {},
     "output_type": "execute_result"
    }
   ],
   "source": [
    "fin['ym_x'].unique()[2:33]"
   ]
  },
  {
   "cell_type": "code",
   "execution_count": 276,
   "metadata": {},
   "outputs": [],
   "source": [
    "betas = []\n",
    "for i in fin.groupby('indu').groups.keys():\n",
    "    for j in range(21,80):\n",
    "        hangye = list(fin.groupby('indu').get_group(i).groupby('ym_x')['ret_x'].sum().values)[j-19:j+1]\n",
    "        zhishu = fin.groupby('indu').get_group(i).groupby('ym_x')['ret_y'].sum().values[j-19:j+1]\n",
    "        bodong = fin.groupby('indu').get_group(i).groupby('ym_x')['ret_y'].std().values[j-20:j]\n",
    "        bodong = list(pd.Series(bodong).fillna(pd.Series(bodong).mean()))\n",
    "        epuu = fin.groupby('indu').get_group(i).groupby('ym_x')['epu'].mean().values[j-20:j]\n",
    "        yj = list(yujing)[j-19:j+1]\n",
    "        yz = list(yizhi)[j-19:j+1]\n",
    "        #smb = finn.groupby('indu').get_group(i).groupby('ym_x')['SMB'].sum().values\n",
    "        #hml = finn.groupby('indu').get_group(i).groupby('ym_x')['HML'].sum().values\n",
    "        xs = np.column_stack([zhishu,bodong,np.log(epuu),yj,yz])\n",
    "        kong = [i,fin['ym_x'].unique()[j+1]]\n",
    "        model = sm.OLS(hangye,sm.add_constant(xs)).fit(method='qr')\n",
    "        kong.append(model.params[0])\n",
    "        kong.append(model.params[1])\n",
    "        kong.append(np.array(hangye[:-3]).sum()-np.array(zhishu[:-3]).sum())\n",
    "        kong.append(np.array(hangye[:-5]).sum()-np.array(zhishu[:-5]).sum())\n",
    "        kong.append(np.array(hangye[:-7]).sum()-np.array(zhishu[:-7]).sum())\n",
    "        kong.append(abs(pd.Series(bodong).std()*model.params[2]))\n",
    "        kong.append(abs(epuu.std()*model.params[3]))\n",
    "        kong.append(abs(np.array(yj).std()*model.params[4]))\n",
    "        kong.append(abs(np.array(yz).std()*model.params[5]))\n",
    "        betas.append(kong)"
   ]
  },
  {
   "cell_type": "code",
   "execution_count": 277,
   "metadata": {},
   "outputs": [],
   "source": [
    "para = pd.DataFrame(betas)"
   ]
  },
  {
   "cell_type": "code",
   "execution_count": 333,
   "metadata": {},
   "outputs": [],
   "source": [
    "para = pd.DataFrame(betas)\n",
    "para[0] = para[0].map(hy)\n",
    "para.columns=['code','ym','alpha','beta','mom1','mom2','mom3','ecbd2','ecep2','ecyj2','ecyz2']"
   ]
  },
  {
   "cell_type": "code",
   "execution_count": 334,
   "metadata": {},
   "outputs": [],
   "source": [
    "adds = []\n",
    "for i in para.groupby('code').groups.keys():\n",
    "    ki= para.groupby('code').get_group(i).groupby('ym').mean()\n",
    "    ki['industry_name'] = np.repeat(i,len(ki))\n",
    "    adds.append(ki)"
   ]
  },
  {
   "cell_type": "code",
   "execution_count": 335,
   "metadata": {},
   "outputs": [],
   "source": [
    "adds = pd.concat(adds)"
   ]
  },
  {
   "cell_type": "code",
   "execution_count": 336,
   "metadata": {
    "collapsed": true
   },
   "outputs": [],
   "source": [
    "adds['ym'] = adds.index"
   ]
  },
  {
   "cell_type": "code",
   "execution_count": 337,
   "metadata": {
    "collapsed": true
   },
   "outputs": [],
   "source": [
    "months = fin['ym_x'].unique()"
   ]
  },
  {
   "cell_type": "code",
   "execution_count": 338,
   "metadata": {},
   "outputs": [],
   "source": [
    "add2 = []\n",
    "for i in range(len(fik)):\n",
    "    every = fik.iloc[i]\n",
    "    start,end = every['ym_x'],every['ym_y']\n",
    "    indu = every['industry_name_x']\n",
    "    ek = adds[adds['industry_name']==indu]\n",
    "    add2.append(ek[(ek['ym']>=start) & (ek['ym']<=end)].mean())\n",
    "\n"
   ]
  },
  {
   "cell_type": "code",
   "execution_count": 339,
   "metadata": {},
   "outputs": [],
   "source": [
    "add2 = pd.DataFrame(add2)\n",
    "del add2['industry_name']\n",
    "del add2['ym']"
   ]
  },
  {
   "cell_type": "code",
   "execution_count": 341,
   "metadata": {},
   "outputs": [],
   "source": [
    "fik2 = pd.concat([fik,add2],axis=1)"
   ]
  },
  {
   "cell_type": "code",
   "execution_count": null,
   "metadata": {},
   "outputs": [],
   "source": []
  },
  {
   "cell_type": "code",
   "execution_count": null,
   "metadata": {
    "collapsed": true
   },
   "outputs": [],
   "source": []
  },
  {
   "cell_type": "code",
   "execution_count": 305,
   "metadata": {},
   "outputs": [
    {
     "data": {
      "text/plain": [
       "array([False, False, False, False, False, False, False, False, False,\n",
       "       False,  True,  True,  True,  True,  True,  True,  True,  True,\n",
       "        True,  True,  True,  True,  True,  True,  True,  True,  True,\n",
       "        True,  True,  True,  True,  True,  True,  True,  True,  True,\n",
       "        True,  True,  True,  True,  True,  True,  True,  True,  True,\n",
       "        True,  True,  True,  True,  True,  True,  True,  True,  True,\n",
       "        True,  True,  True,  True,  True,  True,  True,  True,  True,\n",
       "        True,  True,  True,  True,  True,  True,  True,  True,  True,\n",
       "        True,  True,  True,  True,  True,  True,  True,  True,  True], dtype=bool)"
      ]
     },
     "execution_count": 305,
     "metadata": {},
     "output_type": "execute_result"
    }
   ],
   "source": [
    "fin['ym_x'].unique()>='201111'"
   ]
  },
  {
   "cell_type": "code",
   "execution_count": null,
   "metadata": {
    "collapsed": true
   },
   "outputs": [],
   "source": []
  },
  {
   "cell_type": "code",
   "execution_count": 265,
   "metadata": {},
   "outputs": [
    {
     "data": {
      "text/plain": [
       "u'201111'"
      ]
     },
     "execution_count": 265,
     "metadata": {},
     "output_type": "execute_result"
    }
   ],
   "source": [
    "fik['ym_x'].iloc[0]"
   ]
  },
  {
   "cell_type": "code",
   "execution_count": null,
   "metadata": {
    "collapsed": true
   },
   "outputs": [],
   "source": []
  },
  {
   "cell_type": "code",
   "execution_count": 267,
   "metadata": {},
   "outputs": [
    {
     "data": {
      "text/plain": [
       "Index([u'date_x', u'security_id', u'index_x', u'isOpen_x', u'number1_x',\n",
       "       u'week_x', u'year_x', u'month_x', u'yw_x', u'ym_x',\n",
       "       ...\n",
       "       u'outward_y', u'net_asset_y', u'guarantee_rate_y', u'revenue_y',\n",
       "       u'guarantee_bond_y', u'level1_id_y', u'level2_id_y', u'rating_date_y',\n",
       "       u'level_name_y', u'warning_state_y'],\n",
       "      dtype='object', length=140)"
      ]
     },
     "execution_count": 267,
     "metadata": {},
     "output_type": "execute_result"
    }
   ],
   "source": [
    "fik.columns"
   ]
  },
  {
   "cell_type": "code",
   "execution_count": 94,
   "metadata": {},
   "outputs": [
    {
     "name": "stdout",
     "output_type": "stream",
     "text": [
      "制造业\n",
      "电力、热力、燃气及水生产和供应业\n",
      "交通运输、仓储和邮政业\n",
      "金融业\n",
      "建筑业\n",
      "水利、环境和公共设施管理业\n",
      "采矿业\n",
      "综合\n",
      "房地产业\n",
      "信息传输、软件和信息技术服务业\n",
      "批发和零售业\n",
      "居民服务、修理和其他服务业\n",
      "卫生和社会工作\n",
      "\n",
      "租赁和商务服务业\n",
      "文化、体育和娱乐业\n",
      "住宿和餐饮业\n",
      "科学研究和技术服务业\n",
      "农、林、牧、渔业\n"
     ]
    }
   ],
   "source": [
    "for i in fik['industry_name'].unique():\n",
    "    print i"
   ]
  },
  {
   "cell_type": "code",
   "execution_count": 105,
   "metadata": {},
   "outputs": [
    {
     "name": "stdout",
     "output_type": "stream",
     "text": [
      "industry_name\n",
      "                       52\n",
      "交通运输、仓储和邮政业           650\n",
      "住宿和餐饮业                 15\n",
      "信息传输、软件和信息技术服务业        27\n",
      "农、林、牧、渔业               23\n",
      "制造业                  1608\n",
      "卫生和社会工作                11\n",
      "居民服务、修理和其他服务业          41\n",
      "建筑业                   558\n",
      "房地产业                  361\n",
      "批发和零售业                504\n",
      "文化、体育和娱乐业              20\n",
      "水利、环境和公共设施管理业          69\n",
      "电力、热力、燃气及水生产和供应业      634\n",
      "科学研究和技术服务业              8\n",
      "租赁和商务服务业               48\n",
      "综合                    707\n",
      "采矿业                   416\n",
      "金融业                 13378\n",
      "Name: institution_id, dtype: int64\n"
     ]
    }
   ],
   "source": [
    "print fik.groupby('industry_name')['institution_id'].count()"
   ]
  },
  {
   "cell_type": "code",
   "execution_count": null,
   "metadata": {
    "collapsed": true
   },
   "outputs": [],
   "source": []
  },
  {
   "cell_type": "code",
   "execution_count": null,
   "metadata": {
    "collapsed": true
   },
   "outputs": [],
   "source": []
  },
  {
   "cell_type": "code",
   "execution_count": 142,
   "metadata": {},
   "outputs": [
    {
     "name": "stdout",
     "output_type": "stream",
     "text": [
      "industry_name\n",
      "                     0\n",
      "交通运输、仓储和邮政业          3\n",
      "住宿和餐饮业               1\n",
      "信息传输、软件和信息技术服务业      0\n",
      "农、林、牧、渔业             0\n",
      "制造业                 68\n",
      "卫生和社会工作              0\n",
      "居民服务、修理和其他服务业        0\n",
      "建筑业                 11\n",
      "房地产业                 0\n",
      "批发和零售业               9\n",
      "文化、体育和娱乐业            0\n",
      "水利、环境和公共设施管理业        0\n",
      "电力、热力、燃气及水生产和供应业     2\n",
      "科学研究和技术服务业           1\n",
      "租赁和商务服务业             0\n",
      "综合                   7\n",
      "采矿业                  7\n",
      "金融业                  0\n",
      "Name: default, dtype: int64\n"
     ]
    }
   ],
   "source": [
    "print fik.groupby('industry_name')['default'].sum()"
   ]
  },
  {
   "cell_type": "code",
   "execution_count": null,
   "metadata": {
    "collapsed": true
   },
   "outputs": [],
   "source": []
  },
  {
   "cell_type": "code",
   "execution_count": null,
   "metadata": {
    "collapsed": true
   },
   "outputs": [],
   "source": []
  },
  {
   "cell_type": "code",
   "execution_count": 129,
   "metadata": {},
   "outputs": [],
   "source": [
    "hy ={'33':'制造业','34':'制造业','30':'制造业','25':'制造业','26':'制造业','60':'制造业','28':'制造业','27':'制造业',\n",
    "     '22':'制造业','35':'卫生和社会工作','23':'建筑业','24':'建筑业','42':'房地产业','31':'批发和零售业','36':'批发和零售业',\n",
    "    '63':'文化、体育和娱乐业','20':'电力、热力、燃气及水生产和供应业','40':'金融业','41':'金融业','11':'采矿业','12':'采矿业',\n",
    "    '70':'综合','32':'住宿和餐饮业','50':'交通运输、仓储和邮政业','60':'信息传输、软件和信息技术服务业',\n",
    "    '61':'信息传输、软件和信息技术服务业','62':'信息传输、软件和信息技术服务业','37':'农、林、牧、渔业','10':'采矿业','21':'采矿业'}\n"
   ]
  },
  {
   "cell_type": "code",
   "execution_count": 130,
   "metadata": {},
   "outputs": [],
   "source": [
    "beta = pd.DataFrame(betas)\n",
    "beta[0] = beta[0].map(hy)\n",
    "beta.columns=['code','con','zhishu','bodong','epuu','yujing','yizhi','ecbd','ecep','ecyj','ecyz']"
   ]
  },
  {
   "cell_type": "code",
   "execution_count": 154,
   "metadata": {},
   "outputs": [],
   "source": [
    "kk1 = pd.DataFrame(beta.groupby('code')['ecbd'].mean()).to_dict()['ecbd']\n",
    "kk2 = pd.DataFrame(beta.groupby('code')['ecep'].mean()).to_dict()['ecep']\n",
    "kk3 = pd.DataFrame(beta.groupby('code')['ecyj'].mean()).to_dict()['ecyj']\n",
    "kk4 = pd.DataFrame(beta.groupby('code')['ecyz'].mean()).to_dict()['ecyz']"
   ]
  },
  {
   "cell_type": "code",
   "execution_count": 268,
   "metadata": {},
   "outputs": [
    {
     "ename": "ValueError",
     "evalue": "If using all scalar values, you must pass an index",
     "output_type": "error",
     "traceback": [
      "\u001b[0;31m---------------------------------------------------------------------------\u001b[0m",
      "\u001b[0;31mValueError\u001b[0m                                Traceback (most recent call last)",
      "\u001b[0;32m<ipython-input-268-c329a1f1d1de>\u001b[0m in \u001b[0;36m<module>\u001b[0;34m()\u001b[0m\n\u001b[0;32m----> 1\u001b[0;31m \u001b[0mpd\u001b[0m\u001b[0;34m.\u001b[0m\u001b[0mDataFrame\u001b[0m\u001b[0;34m(\u001b[0m\u001b[0mhy\u001b[0m\u001b[0;34m)\u001b[0m\u001b[0;34m\u001b[0m\u001b[0m\n\u001b[0m",
      "\u001b[0;32m/Users/macbook/anaconda/lib/python2.7/site-packages/pandas/core/frame.pyc\u001b[0m in \u001b[0;36m__init__\u001b[0;34m(self, data, index, columns, dtype, copy)\u001b[0m\n\u001b[1;32m    222\u001b[0m                                  dtype=dtype, copy=copy)\n\u001b[1;32m    223\u001b[0m         \u001b[0;32melif\u001b[0m \u001b[0misinstance\u001b[0m\u001b[0;34m(\u001b[0m\u001b[0mdata\u001b[0m\u001b[0;34m,\u001b[0m \u001b[0mdict\u001b[0m\u001b[0;34m)\u001b[0m\u001b[0;34m:\u001b[0m\u001b[0;34m\u001b[0m\u001b[0m\n\u001b[0;32m--> 224\u001b[0;31m             \u001b[0mmgr\u001b[0m \u001b[0;34m=\u001b[0m \u001b[0mself\u001b[0m\u001b[0;34m.\u001b[0m\u001b[0m_init_dict\u001b[0m\u001b[0;34m(\u001b[0m\u001b[0mdata\u001b[0m\u001b[0;34m,\u001b[0m \u001b[0mindex\u001b[0m\u001b[0;34m,\u001b[0m \u001b[0mcolumns\u001b[0m\u001b[0;34m,\u001b[0m \u001b[0mdtype\u001b[0m\u001b[0;34m=\u001b[0m\u001b[0mdtype\u001b[0m\u001b[0;34m)\u001b[0m\u001b[0;34m\u001b[0m\u001b[0m\n\u001b[0m\u001b[1;32m    225\u001b[0m         \u001b[0;32melif\u001b[0m \u001b[0misinstance\u001b[0m\u001b[0;34m(\u001b[0m\u001b[0mdata\u001b[0m\u001b[0;34m,\u001b[0m \u001b[0mma\u001b[0m\u001b[0;34m.\u001b[0m\u001b[0mMaskedArray\u001b[0m\u001b[0;34m)\u001b[0m\u001b[0;34m:\u001b[0m\u001b[0;34m\u001b[0m\u001b[0m\n\u001b[1;32m    226\u001b[0m             \u001b[0;32mimport\u001b[0m \u001b[0mnumpy\u001b[0m\u001b[0;34m.\u001b[0m\u001b[0mma\u001b[0m\u001b[0;34m.\u001b[0m\u001b[0mmrecords\u001b[0m \u001b[0;32mas\u001b[0m \u001b[0mmrecords\u001b[0m\u001b[0;34m\u001b[0m\u001b[0m\n",
      "\u001b[0;32m/Users/macbook/anaconda/lib/python2.7/site-packages/pandas/core/frame.pyc\u001b[0m in \u001b[0;36m_init_dict\u001b[0;34m(self, data, index, columns, dtype)\u001b[0m\n\u001b[1;32m    358\u001b[0m             \u001b[0marrays\u001b[0m \u001b[0;34m=\u001b[0m \u001b[0;34m[\u001b[0m\u001b[0mdata\u001b[0m\u001b[0;34m[\u001b[0m\u001b[0mk\u001b[0m\u001b[0;34m]\u001b[0m \u001b[0;32mfor\u001b[0m \u001b[0mk\u001b[0m \u001b[0;32min\u001b[0m \u001b[0mkeys\u001b[0m\u001b[0;34m]\u001b[0m\u001b[0;34m\u001b[0m\u001b[0m\n\u001b[1;32m    359\u001b[0m \u001b[0;34m\u001b[0m\u001b[0m\n\u001b[0;32m--> 360\u001b[0;31m         \u001b[0;32mreturn\u001b[0m \u001b[0m_arrays_to_mgr\u001b[0m\u001b[0;34m(\u001b[0m\u001b[0marrays\u001b[0m\u001b[0;34m,\u001b[0m \u001b[0mdata_names\u001b[0m\u001b[0;34m,\u001b[0m \u001b[0mindex\u001b[0m\u001b[0;34m,\u001b[0m \u001b[0mcolumns\u001b[0m\u001b[0;34m,\u001b[0m \u001b[0mdtype\u001b[0m\u001b[0;34m=\u001b[0m\u001b[0mdtype\u001b[0m\u001b[0;34m)\u001b[0m\u001b[0;34m\u001b[0m\u001b[0m\n\u001b[0m\u001b[1;32m    361\u001b[0m \u001b[0;34m\u001b[0m\u001b[0m\n\u001b[1;32m    362\u001b[0m     \u001b[0;32mdef\u001b[0m \u001b[0m_init_ndarray\u001b[0m\u001b[0;34m(\u001b[0m\u001b[0mself\u001b[0m\u001b[0;34m,\u001b[0m \u001b[0mvalues\u001b[0m\u001b[0;34m,\u001b[0m \u001b[0mindex\u001b[0m\u001b[0;34m,\u001b[0m \u001b[0mcolumns\u001b[0m\u001b[0;34m,\u001b[0m \u001b[0mdtype\u001b[0m\u001b[0;34m=\u001b[0m\u001b[0mNone\u001b[0m\u001b[0;34m,\u001b[0m \u001b[0mcopy\u001b[0m\u001b[0;34m=\u001b[0m\u001b[0mFalse\u001b[0m\u001b[0;34m)\u001b[0m\u001b[0;34m:\u001b[0m\u001b[0;34m\u001b[0m\u001b[0m\n",
      "\u001b[0;32m/Users/macbook/anaconda/lib/python2.7/site-packages/pandas/core/frame.pyc\u001b[0m in \u001b[0;36m_arrays_to_mgr\u001b[0;34m(arrays, arr_names, index, columns, dtype)\u001b[0m\n\u001b[1;32m   5229\u001b[0m     \u001b[0;31m# figure out the index, if necessary\u001b[0m\u001b[0;34m\u001b[0m\u001b[0;34m\u001b[0m\u001b[0m\n\u001b[1;32m   5230\u001b[0m     \u001b[0;32mif\u001b[0m \u001b[0mindex\u001b[0m \u001b[0;32mis\u001b[0m \u001b[0mNone\u001b[0m\u001b[0;34m:\u001b[0m\u001b[0;34m\u001b[0m\u001b[0m\n\u001b[0;32m-> 5231\u001b[0;31m         \u001b[0mindex\u001b[0m \u001b[0;34m=\u001b[0m \u001b[0mextract_index\u001b[0m\u001b[0;34m(\u001b[0m\u001b[0marrays\u001b[0m\u001b[0;34m)\u001b[0m\u001b[0;34m\u001b[0m\u001b[0m\n\u001b[0m\u001b[1;32m   5232\u001b[0m     \u001b[0;32melse\u001b[0m\u001b[0;34m:\u001b[0m\u001b[0;34m\u001b[0m\u001b[0m\n\u001b[1;32m   5233\u001b[0m         \u001b[0mindex\u001b[0m \u001b[0;34m=\u001b[0m \u001b[0m_ensure_index\u001b[0m\u001b[0;34m(\u001b[0m\u001b[0mindex\u001b[0m\u001b[0;34m)\u001b[0m\u001b[0;34m\u001b[0m\u001b[0m\n",
      "\u001b[0;32m/Users/macbook/anaconda/lib/python2.7/site-packages/pandas/core/frame.pyc\u001b[0m in \u001b[0;36mextract_index\u001b[0;34m(data)\u001b[0m\n\u001b[1;32m   5268\u001b[0m \u001b[0;34m\u001b[0m\u001b[0m\n\u001b[1;32m   5269\u001b[0m         \u001b[0;32mif\u001b[0m \u001b[0;32mnot\u001b[0m \u001b[0mindexes\u001b[0m \u001b[0;32mand\u001b[0m \u001b[0;32mnot\u001b[0m \u001b[0mraw_lengths\u001b[0m\u001b[0;34m:\u001b[0m\u001b[0;34m\u001b[0m\u001b[0m\n\u001b[0;32m-> 5270\u001b[0;31m             raise ValueError('If using all scalar values, you must pass'\n\u001b[0m\u001b[1;32m   5271\u001b[0m                              ' an index')\n\u001b[1;32m   5272\u001b[0m \u001b[0;34m\u001b[0m\u001b[0m\n",
      "\u001b[0;31mValueError\u001b[0m: If using all scalar values, you must pass an index"
     ]
    }
   ],
   "source": []
  },
  {
   "cell_type": "code",
   "execution_count": null,
   "metadata": {
    "collapsed": true
   },
   "outputs": [],
   "source": []
  },
  {
   "cell_type": "code",
   "execution_count": null,
   "metadata": {
    "collapsed": true
   },
   "outputs": [],
   "source": []
  },
  {
   "cell_type": "code",
   "execution_count": 155,
   "metadata": {},
   "outputs": [],
   "source": [
    "fik['ecep'] = fik['industry_name'].map(kk2)\n",
    "fik['ecbd'] = fik['industry_name'].map(kk1)\n",
    "fik['ecyj'] = fik['industry_name'].map(kk3)\n",
    "fik['ecyz'] = fik['industry_name'].map(kk4)"
   ]
  },
  {
   "cell_type": "code",
   "execution_count": 156,
   "metadata": {},
   "outputs": [],
   "source": [
    "fil = fik.iloc[fik['ecep'].dropna().index]"
   ]
  },
  {
   "cell_type": "code",
   "execution_count": null,
   "metadata": {
    "collapsed": true
   },
   "outputs": [],
   "source": []
  },
  {
   "cell_type": "code",
   "execution_count": null,
   "metadata": {
    "collapsed": true
   },
   "outputs": [],
   "source": []
  },
  {
   "cell_type": "code",
   "execution_count": null,
   "metadata": {
    "collapsed": true
   },
   "outputs": [],
   "source": []
  },
  {
   "cell_type": "code",
   "execution_count": null,
   "metadata": {
    "collapsed": true
   },
   "outputs": [],
   "source": []
  },
  {
   "cell_type": "code",
   "execution_count": 152,
   "metadata": {},
   "outputs": [
    {
     "data": {
      "text/plain": [
       "code\n",
       "交通运输、仓储和邮政业         1.933846\n",
       "住宿和餐饮业              3.617383\n",
       "信息传输、软件和信息技术服务业     4.577979\n",
       "农、林、牧、渔业            2.652808\n",
       "制造业                 3.814441\n",
       "卫生和社会工作             3.780977\n",
       "建筑业                 2.984963\n",
       "房地产业                2.188177\n",
       "批发和零售业              2.419593\n",
       "文化、体育和娱乐业           3.943810\n",
       "电力、热力、燃气及水生产和供应业    1.618569\n",
       "综合                  2.932432\n",
       "采矿业                 2.038712\n",
       "金融业                 0.754702\n",
       "Name: ecep, dtype: float64"
      ]
     },
     "execution_count": 152,
     "metadata": {},
     "output_type": "execute_result"
    }
   ],
   "source": [
    "beta.groupby('code')['ecep'].mean()"
   ]
  },
  {
   "cell_type": "code",
   "execution_count": null,
   "metadata": {
    "collapsed": true
   },
   "outputs": [],
   "source": []
  },
  {
   "cell_type": "code",
   "execution_count": 167,
   "metadata": {},
   "outputs": [
    {
     "data": {
      "text/plain": [
       "(18912, 75)"
      ]
     },
     "execution_count": 167,
     "metadata": {},
     "output_type": "execute_result"
    }
   ],
   "source": [
    "fil.shape"
   ]
  },
  {
   "cell_type": "code",
   "execution_count": 183,
   "metadata": {},
   "outputs": [],
   "source": [
    "import statsmodels"
   ]
  },
  {
   "cell_type": "code",
   "execution_count": 178,
   "metadata": {
    "collapsed": true
   },
   "outputs": [],
   "source": [
    "xs =pd.DataFrame([fil['default'],fil['ROE'],fil['ecep'],fil['ecyj'],fil['ecyz'],fil['ecbd']]).T"
   ]
  },
  {
   "cell_type": "code",
   "execution_count": 179,
   "metadata": {
    "collapsed": true
   },
   "outputs": [],
   "source": [
    "xs = xs.dropna()"
   ]
  },
  {
   "cell_type": "code",
   "execution_count": 182,
   "metadata": {},
   "outputs": [
    {
     "data": {
      "text/html": [
       "<table class=\"simpletable\">\n",
       "<caption>OLS Regression Results</caption>\n",
       "<tr>\n",
       "  <th>Dep. Variable:</th>         <td>default</td>     <th>  R-squared:         </th>  <td>   0.040</td> \n",
       "</tr>\n",
       "<tr>\n",
       "  <th>Model:</th>                   <td>OLS</td>       <th>  Adj. R-squared:    </th>  <td>   0.040</td> \n",
       "</tr>\n",
       "<tr>\n",
       "  <th>Method:</th>             <td>Least Squares</td>  <th>  F-statistic:       </th>  <td>   198.1</td> \n",
       "</tr>\n",
       "<tr>\n",
       "  <th>Date:</th>             <td>Tue, 20 Feb 2018</td> <th>  Prob (F-statistic):</th>  <td>1.01e-166</td>\n",
       "</tr>\n",
       "<tr>\n",
       "  <th>Time:</th>                 <td>23:42:03</td>     <th>  Log-Likelihood:    </th>  <td>  22955.</td> \n",
       "</tr>\n",
       "<tr>\n",
       "  <th>No. Observations:</th>      <td> 18837</td>      <th>  AIC:               </th> <td>-4.590e+04</td>\n",
       "</tr>\n",
       "<tr>\n",
       "  <th>Df Residuals:</th>          <td> 18832</td>      <th>  BIC:               </th> <td>-4.586e+04</td>\n",
       "</tr>\n",
       "<tr>\n",
       "  <th>Df Model:</th>              <td>     4</td>      <th>                     </th>      <td> </td>    \n",
       "</tr>\n",
       "<tr>\n",
       "  <th>Covariance Type:</th>      <td>nonrobust</td>    <th>                     </th>      <td> </td>    \n",
       "</tr>\n",
       "</table>\n",
       "<table class=\"simpletable\">\n",
       "<tr>\n",
       "    <td></td>       <th>coef</th>     <th>std err</th>      <th>t</th>      <th>P>|t|</th>  <th>[0.025</th>    <th>0.975]</th>  \n",
       "</tr>\n",
       "<tr>\n",
       "  <th>const</th> <td>    0.0197</td> <td>    0.002</td> <td>    8.780</td> <td> 0.000</td> <td>    0.015</td> <td>    0.024</td>\n",
       "</tr>\n",
       "<tr>\n",
       "  <th>x1</th>    <td>   -0.0027</td> <td>    0.000</td> <td>  -20.805</td> <td> 0.000</td> <td>   -0.003</td> <td>   -0.002</td>\n",
       "</tr>\n",
       "<tr>\n",
       "  <th>x2</th>    <td>   -0.0110</td> <td>    0.004</td> <td>   -2.974</td> <td> 0.003</td> <td>   -0.018</td> <td>   -0.004</td>\n",
       "</tr>\n",
       "<tr>\n",
       "  <th>x3</th>    <td>  -44.3939</td> <td>    8.457</td> <td>   -5.249</td> <td> 0.000</td> <td>  -60.971</td> <td>  -27.817</td>\n",
       "</tr>\n",
       "<tr>\n",
       "  <th>x4</th>    <td>    0.0136</td> <td>    0.002</td> <td>    5.747</td> <td> 0.000</td> <td>    0.009</td> <td>    0.018</td>\n",
       "</tr>\n",
       "</table>\n",
       "<table class=\"simpletable\">\n",
       "<tr>\n",
       "  <th>Omnibus:</th>       <td>33181.018</td> <th>  Durbin-Watson:     </th>   <td>   1.260</td>  \n",
       "</tr>\n",
       "<tr>\n",
       "  <th>Prob(Omnibus):</th>  <td> 0.000</td>   <th>  Jarque-Bera (JB):  </th> <td>24013526.836</td>\n",
       "</tr>\n",
       "<tr>\n",
       "  <th>Skew:</th>           <td>12.934</td>   <th>  Prob(JB):          </th>   <td>    0.00</td>  \n",
       "</tr>\n",
       "<tr>\n",
       "  <th>Kurtosis:</th>       <td>175.992</td>  <th>  Cond. No.          </th>   <td>1.84e+05</td>  \n",
       "</tr>\n",
       "</table>"
      ],
      "text/plain": [
       "<class 'statsmodels.iolib.summary.Summary'>\n",
       "\"\"\"\n",
       "                            OLS Regression Results                            \n",
       "==============================================================================\n",
       "Dep. Variable:                default   R-squared:                       0.040\n",
       "Model:                            OLS   Adj. R-squared:                  0.040\n",
       "Method:                 Least Squares   F-statistic:                     198.1\n",
       "Date:                Tue, 20 Feb 2018   Prob (F-statistic):          1.01e-166\n",
       "Time:                        23:42:03   Log-Likelihood:                 22955.\n",
       "No. Observations:               18837   AIC:                        -4.590e+04\n",
       "Df Residuals:                   18832   BIC:                        -4.586e+04\n",
       "Df Model:                           4                                         \n",
       "Covariance Type:            nonrobust                                         \n",
       "==============================================================================\n",
       "                 coef    std err          t      P>|t|      [0.025      0.975]\n",
       "------------------------------------------------------------------------------\n",
       "const          0.0197      0.002      8.780      0.000       0.015       0.024\n",
       "x1            -0.0027      0.000    -20.805      0.000      -0.003      -0.002\n",
       "x2            -0.0110      0.004     -2.974      0.003      -0.018      -0.004\n",
       "x3           -44.3939      8.457     -5.249      0.000     -60.971     -27.817\n",
       "x4             0.0136      0.002      5.747      0.000       0.009       0.018\n",
       "==============================================================================\n",
       "Omnibus:                    33181.018   Durbin-Watson:                   1.260\n",
       "Prob(Omnibus):                  0.000   Jarque-Bera (JB):         24013526.836\n",
       "Skew:                          12.934   Prob(JB):                         0.00\n",
       "Kurtosis:                     175.992   Cond. No.                     1.84e+05\n",
       "==============================================================================\n",
       "\n",
       "Warnings:\n",
       "[1] Standard Errors assume that the covariance matrix of the errors is correctly specified.\n",
       "[2] The condition number is large, 1.84e+05. This might indicate that there are\n",
       "strong multicollinearity or other numerical problems.\n",
       "\"\"\""
      ]
     },
     "execution_count": 182,
     "metadata": {},
     "output_type": "execute_result"
    }
   ],
   "source": [
    "sm.OLS(xs['default'],sm.add_constant(np.column_stack([xs['ROE'],xs['ecyj'],xs['ecbd'],xs['ecyz']]))).fit().summary()"
   ]
  },
  {
   "cell_type": "code",
   "execution_count": 188,
   "metadata": {},
   "outputs": [],
   "source": [
    "model = statsmodels.discrete.discrete_model.Logit(xs['default'],sm.add_constant(np.column_stack([xs['ROE'],xs['ecyj'],xs['ecbd'],xs['ecyz']])))"
   ]
  },
  {
   "cell_type": "code",
   "execution_count": 193,
   "metadata": {},
   "outputs": [
    {
     "name": "stdout",
     "output_type": "stream",
     "text": [
      "Warning: Maximum number of iterations has been exceeded.\n",
      "         Current function value: 0.052876\n",
      "         Iterations: 35\n"
     ]
    },
    {
     "name": "stderr",
     "output_type": "stream",
     "text": [
      "/Users/macbook/anaconda/lib/python2.7/site-packages/statsmodels/base/model.py:496: ConvergenceWarning: Maximum Likelihood optimization failed to converge. Check mle_retvals\n",
      "  \"Check mle_retvals\", ConvergenceWarning)\n"
     ]
    }
   ],
   "source": [
    "pre = model.predict(model.fit().params,sm.add_constant(np.column_stack([xs['ROE'],xs['ecyj'],xs['ecbd'],xs['ecyz']])))"
   ]
  },
  {
   "cell_type": "code",
   "execution_count": 207,
   "metadata": {},
   "outputs": [
    {
     "data": {
      "text/plain": [
       " 0.0    18713\n",
       " 1.0       88\n",
       "-1.0       36\n",
       "Name: default, dtype: int64"
      ]
     },
     "execution_count": 207,
     "metadata": {},
     "output_type": "execute_result"
    }
   ],
   "source": [
    "(xs['default']-map(float,pre>0.5)).value_counts()\n"
   ]
  },
  {
   "cell_type": "code",
   "execution_count": 366,
   "metadata": {},
   "outputs": [],
   "source": [
    "xs = pd.DataFrame([fik2['default'],fik2['ROE'],fik2['ecep2'],fik2['ecyj2'],fik2['ecyz2'],fik2['ecbd2'],fik2['mom2']]).T"
   ]
  },
  {
   "cell_type": "code",
   "execution_count": 367,
   "metadata": {
    "collapsed": true
   },
   "outputs": [],
   "source": [
    "xs = xs.dropna()"
   ]
  },
  {
   "cell_type": "code",
   "execution_count": 368,
   "metadata": {},
   "outputs": [
    {
     "data": {
      "text/html": [
       "<div>\n",
       "<table border=\"1\" class=\"dataframe\">\n",
       "  <thead>\n",
       "    <tr style=\"text-align: right;\">\n",
       "      <th></th>\n",
       "      <th>default</th>\n",
       "      <th>ROE</th>\n",
       "      <th>ecep2</th>\n",
       "      <th>ecyj2</th>\n",
       "      <th>ecyz2</th>\n",
       "      <th>ecbd2</th>\n",
       "      <th>mom2</th>\n",
       "    </tr>\n",
       "  </thead>\n",
       "  <tbody>\n",
       "    <tr>\n",
       "      <th>default</th>\n",
       "      <td>1.000000</td>\n",
       "      <td>-0.171288</td>\n",
       "      <td>-0.027517</td>\n",
       "      <td>0.122003</td>\n",
       "      <td>0.084483</td>\n",
       "      <td>0.122078</td>\n",
       "      <td>0.096224</td>\n",
       "    </tr>\n",
       "    <tr>\n",
       "      <th>ROE</th>\n",
       "      <td>-0.171288</td>\n",
       "      <td>1.000000</td>\n",
       "      <td>0.089711</td>\n",
       "      <td>-0.475963</td>\n",
       "      <td>-0.250472</td>\n",
       "      <td>-0.423466</td>\n",
       "      <td>-0.262483</td>\n",
       "    </tr>\n",
       "    <tr>\n",
       "      <th>ecep2</th>\n",
       "      <td>-0.027517</td>\n",
       "      <td>0.089711</td>\n",
       "      <td>1.000000</td>\n",
       "      <td>-0.146960</td>\n",
       "      <td>0.031969</td>\n",
       "      <td>0.026180</td>\n",
       "      <td>0.136374</td>\n",
       "    </tr>\n",
       "    <tr>\n",
       "      <th>ecyj2</th>\n",
       "      <td>0.122003</td>\n",
       "      <td>-0.475963</td>\n",
       "      <td>-0.146960</td>\n",
       "      <td>1.000000</td>\n",
       "      <td>0.708708</td>\n",
       "      <td>0.635966</td>\n",
       "      <td>0.586428</td>\n",
       "    </tr>\n",
       "    <tr>\n",
       "      <th>ecyz2</th>\n",
       "      <td>0.084483</td>\n",
       "      <td>-0.250472</td>\n",
       "      <td>0.031969</td>\n",
       "      <td>0.708708</td>\n",
       "      <td>1.000000</td>\n",
       "      <td>0.779656</td>\n",
       "      <td>0.614912</td>\n",
       "    </tr>\n",
       "    <tr>\n",
       "      <th>ecbd2</th>\n",
       "      <td>0.122078</td>\n",
       "      <td>-0.423466</td>\n",
       "      <td>0.026180</td>\n",
       "      <td>0.635966</td>\n",
       "      <td>0.779656</td>\n",
       "      <td>1.000000</td>\n",
       "      <td>0.480532</td>\n",
       "    </tr>\n",
       "    <tr>\n",
       "      <th>mom2</th>\n",
       "      <td>0.096224</td>\n",
       "      <td>-0.262483</td>\n",
       "      <td>0.136374</td>\n",
       "      <td>0.586428</td>\n",
       "      <td>0.614912</td>\n",
       "      <td>0.480532</td>\n",
       "      <td>1.000000</td>\n",
       "    </tr>\n",
       "  </tbody>\n",
       "</table>\n",
       "</div>"
      ],
      "text/plain": [
       "          default       ROE     ecep2     ecyj2     ecyz2     ecbd2      mom2\n",
       "default  1.000000 -0.171288 -0.027517  0.122003  0.084483  0.122078  0.096224\n",
       "ROE     -0.171288  1.000000  0.089711 -0.475963 -0.250472 -0.423466 -0.262483\n",
       "ecep2   -0.027517  0.089711  1.000000 -0.146960  0.031969  0.026180  0.136374\n",
       "ecyj2    0.122003 -0.475963 -0.146960  1.000000  0.708708  0.635966  0.586428\n",
       "ecyz2    0.084483 -0.250472  0.031969  0.708708  1.000000  0.779656  0.614912\n",
       "ecbd2    0.122078 -0.423466  0.026180  0.635966  0.779656  1.000000  0.480532\n",
       "mom2     0.096224 -0.262483  0.136374  0.586428  0.614912  0.480532  1.000000"
      ]
     },
     "execution_count": 368,
     "metadata": {},
     "output_type": "execute_result"
    }
   ],
   "source": [
    "xs.corr()"
   ]
  },
  {
   "cell_type": "code",
   "execution_count": 369,
   "metadata": {
    "collapsed": true
   },
   "outputs": [],
   "source": [
    "y = xs['default']"
   ]
  },
  {
   "cell_type": "code",
   "execution_count": 370,
   "metadata": {
    "collapsed": true
   },
   "outputs": [],
   "source": [
    "del xs['default']"
   ]
  },
  {
   "cell_type": "code",
   "execution_count": 373,
   "metadata": {},
   "outputs": [
    {
     "data": {
      "text/html": [
       "<table class=\"simpletable\">\n",
       "<caption>OLS Regression Results</caption>\n",
       "<tr>\n",
       "  <th>Dep. Variable:</th>         <td>default</td>     <th>  R-squared:         </th>  <td>   0.035</td> \n",
       "</tr>\n",
       "<tr>\n",
       "  <th>Model:</th>                   <td>OLS</td>       <th>  Adj. R-squared:    </th>  <td>   0.034</td> \n",
       "</tr>\n",
       "<tr>\n",
       "  <th>Method:</th>             <td>Least Squares</td>  <th>  F-statistic:       </th>  <td>   81.79</td> \n",
       "</tr>\n",
       "<tr>\n",
       "  <th>Date:</th>             <td>Wed, 21 Feb 2018</td> <th>  Prob (F-statistic):</th>  <td>5.83e-101</td>\n",
       "</tr>\n",
       "<tr>\n",
       "  <th>Time:</th>                 <td>01:06:30</td>     <th>  Log-Likelihood:    </th>  <td>  16873.</td> \n",
       "</tr>\n",
       "<tr>\n",
       "  <th>No. Observations:</th>      <td> 13600</td>      <th>  AIC:               </th> <td>-3.373e+04</td>\n",
       "</tr>\n",
       "<tr>\n",
       "  <th>Df Residuals:</th>          <td> 13594</td>      <th>  BIC:               </th> <td>-3.369e+04</td>\n",
       "</tr>\n",
       "<tr>\n",
       "  <th>Df Model:</th>              <td>     6</td>      <th>                     </th>      <td> </td>    \n",
       "</tr>\n",
       "<tr>\n",
       "  <th>Covariance Type:</th>      <td>nonrobust</td>    <th>                     </th>      <td> </td>    \n",
       "</tr>\n",
       "</table>\n",
       "<table class=\"simpletable\">\n",
       "<tr>\n",
       "    <td></td>       <th>coef</th>     <th>std err</th>      <th>t</th>      <th>P>|t|</th>  <th>[0.025</th>    <th>0.975]</th>  \n",
       "</tr>\n",
       "<tr>\n",
       "  <th>ROE</th>   <td>   -0.0011</td> <td>    0.000</td> <td>  -10.418</td> <td> 0.000</td> <td>   -0.001</td> <td>   -0.001</td>\n",
       "</tr>\n",
       "<tr>\n",
       "  <th>ecep2</th> <td>    0.0013</td> <td>    0.001</td> <td>    2.387</td> <td> 0.017</td> <td>    0.000</td> <td>    0.002</td>\n",
       "</tr>\n",
       "<tr>\n",
       "  <th>ecyj2</th> <td>    0.3887</td> <td>    0.072</td> <td>    5.386</td> <td> 0.000</td> <td>    0.247</td> <td>    0.530</td>\n",
       "</tr>\n",
       "<tr>\n",
       "  <th>ecyz2</th> <td>   -0.2933</td> <td>    0.074</td> <td>   -3.961</td> <td> 0.000</td> <td>   -0.439</td> <td>   -0.148</td>\n",
       "</tr>\n",
       "<tr>\n",
       "  <th>ecbd2</th> <td>    0.3528</td> <td>    0.065</td> <td>    5.397</td> <td> 0.000</td> <td>    0.225</td> <td>    0.481</td>\n",
       "</tr>\n",
       "<tr>\n",
       "  <th>mom2</th>  <td>    0.0319</td> <td>    0.006</td> <td>    5.329</td> <td> 0.000</td> <td>    0.020</td> <td>    0.044</td>\n",
       "</tr>\n",
       "</table>\n",
       "<table class=\"simpletable\">\n",
       "<tr>\n",
       "  <th>Omnibus:</th>       <td>24319.439</td> <th>  Durbin-Watson:     </th>   <td>   1.878</td>  \n",
       "</tr>\n",
       "<tr>\n",
       "  <th>Prob(Omnibus):</th>  <td> 0.000</td>   <th>  Jarque-Bera (JB):  </th> <td>19027274.239</td>\n",
       "</tr>\n",
       "<tr>\n",
       "  <th>Skew:</th>           <td>13.306</td>   <th>  Prob(JB):          </th>   <td>    0.00</td>  \n",
       "</tr>\n",
       "<tr>\n",
       "  <th>Kurtosis:</th>       <td>184.299</td>  <th>  Cond. No.          </th>   <td>1.78e+03</td>  \n",
       "</tr>\n",
       "</table>"
      ],
      "text/plain": [
       "<class 'statsmodels.iolib.summary.Summary'>\n",
       "\"\"\"\n",
       "                            OLS Regression Results                            \n",
       "==============================================================================\n",
       "Dep. Variable:                default   R-squared:                       0.035\n",
       "Model:                            OLS   Adj. R-squared:                  0.034\n",
       "Method:                 Least Squares   F-statistic:                     81.79\n",
       "Date:                Wed, 21 Feb 2018   Prob (F-statistic):          5.83e-101\n",
       "Time:                        01:06:30   Log-Likelihood:                 16873.\n",
       "No. Observations:               13600   AIC:                        -3.373e+04\n",
       "Df Residuals:                   13594   BIC:                        -3.369e+04\n",
       "Df Model:                           6                                         \n",
       "Covariance Type:            nonrobust                                         \n",
       "==============================================================================\n",
       "                 coef    std err          t      P>|t|      [0.025      0.975]\n",
       "------------------------------------------------------------------------------\n",
       "ROE           -0.0011      0.000    -10.418      0.000      -0.001      -0.001\n",
       "ecep2          0.0013      0.001      2.387      0.017       0.000       0.002\n",
       "ecyj2          0.3887      0.072      5.386      0.000       0.247       0.530\n",
       "ecyz2         -0.2933      0.074     -3.961      0.000      -0.439      -0.148\n",
       "ecbd2          0.3528      0.065      5.397      0.000       0.225       0.481\n",
       "mom2           0.0319      0.006      5.329      0.000       0.020       0.044\n",
       "==============================================================================\n",
       "Omnibus:                    24319.439   Durbin-Watson:                   1.878\n",
       "Prob(Omnibus):                  0.000   Jarque-Bera (JB):         19027274.239\n",
       "Skew:                          13.306   Prob(JB):                         0.00\n",
       "Kurtosis:                     184.299   Cond. No.                     1.78e+03\n",
       "==============================================================================\n",
       "\n",
       "Warnings:\n",
       "[1] Standard Errors assume that the covariance matrix of the errors is correctly specified.\n",
       "[2] The condition number is large, 1.78e+03. This might indicate that there are\n",
       "strong multicollinearity or other numerical problems.\n",
       "\"\"\""
      ]
     },
     "execution_count": 373,
     "metadata": {},
     "output_type": "execute_result"
    }
   ],
   "source": [
    "sm.OLS(y,xs).fit().summary()"
   ]
  },
  {
   "cell_type": "code",
   "execution_count": 377,
   "metadata": {},
   "outputs": [],
   "source": [
    "model = statsmodels.discrete.discrete_model.Logit(y,xs)"
   ]
  },
  {
   "cell_type": "code",
   "execution_count": 380,
   "metadata": {},
   "outputs": [
    {
     "name": "stdout",
     "output_type": "stream",
     "text": [
      "Optimization terminated successfully.\n",
      "         Current function value: 0.033299\n",
      "         Iterations 11\n"
     ]
    },
    {
     "data": {
      "text/html": [
       "<table class=\"simpletable\">\n",
       "<caption>Logit Regression Results</caption>\n",
       "<tr>\n",
       "  <th>Dep. Variable:</th>      <td>default</td>     <th>  No. Observations:  </th>  <td> 13600</td> \n",
       "</tr>\n",
       "<tr>\n",
       "  <th>Model:</th>               <td>Logit</td>      <th>  Df Residuals:      </th>  <td> 13594</td> \n",
       "</tr>\n",
       "<tr>\n",
       "  <th>Method:</th>               <td>MLE</td>       <th>  Df Model:          </th>  <td>     5</td> \n",
       "</tr>\n",
       "<tr>\n",
       "  <th>Date:</th>          <td>Wed, 21 Feb 2018</td> <th>  Pseudo R-squ.:     </th> <td>-0.04492</td>\n",
       "</tr>\n",
       "<tr>\n",
       "  <th>Time:</th>              <td>01:08:05</td>     <th>  Log-Likelihood:    </th> <td> -452.87</td>\n",
       "</tr>\n",
       "<tr>\n",
       "  <th>converged:</th>           <td>True</td>       <th>  LL-Null:           </th> <td> -433.40</td>\n",
       "</tr>\n",
       "<tr>\n",
       "  <th> </th>                      <td> </td>        <th>  LLR p-value:       </th>  <td> 1.000</td> \n",
       "</tr>\n",
       "</table>\n",
       "<table class=\"simpletable\">\n",
       "<tr>\n",
       "    <td></td>       <th>coef</th>     <th>std err</th>      <th>z</th>      <th>P>|z|</th>  <th>[0.025</th>    <th>0.975]</th>  \n",
       "</tr>\n",
       "<tr>\n",
       "  <th>ROE</th>   <td>   -0.1419</td> <td>    0.010</td> <td>  -14.069</td> <td> 0.000</td> <td>   -0.162</td> <td>   -0.122</td>\n",
       "</tr>\n",
       "<tr>\n",
       "  <th>ecep2</th> <td>   -2.0074</td> <td>    0.127</td> <td>  -15.814</td> <td> 0.000</td> <td>   -2.256</td> <td>   -1.759</td>\n",
       "</tr>\n",
       "<tr>\n",
       "  <th>ecyj2</th> <td>  -14.1347</td> <td>   11.116</td> <td>   -1.272</td> <td> 0.204</td> <td>  -35.922</td> <td>    7.652</td>\n",
       "</tr>\n",
       "<tr>\n",
       "  <th>ecyz2</th> <td>  -28.6628</td> <td>   15.543</td> <td>   -1.844</td> <td> 0.065</td> <td>  -59.126</td> <td>    1.800</td>\n",
       "</tr>\n",
       "<tr>\n",
       "  <th>ecbd2</th> <td>   24.9993</td> <td>    9.775</td> <td>    2.557</td> <td> 0.011</td> <td>    5.840</td> <td>   44.159</td>\n",
       "</tr>\n",
       "<tr>\n",
       "  <th>mom2</th>  <td>    0.1610</td> <td>    0.848</td> <td>    0.190</td> <td> 0.849</td> <td>   -1.501</td> <td>    1.823</td>\n",
       "</tr>\n",
       "</table>"
      ],
      "text/plain": [
       "<class 'statsmodels.iolib.summary.Summary'>\n",
       "\"\"\"\n",
       "                           Logit Regression Results                           \n",
       "==============================================================================\n",
       "Dep. Variable:                default   No. Observations:                13600\n",
       "Model:                          Logit   Df Residuals:                    13594\n",
       "Method:                           MLE   Df Model:                            5\n",
       "Date:                Wed, 21 Feb 2018   Pseudo R-squ.:                -0.04492\n",
       "Time:                        01:08:05   Log-Likelihood:                -452.87\n",
       "converged:                       True   LL-Null:                       -433.40\n",
       "                                        LLR p-value:                     1.000\n",
       "==============================================================================\n",
       "                 coef    std err          z      P>|z|      [0.025      0.975]\n",
       "------------------------------------------------------------------------------\n",
       "ROE           -0.1419      0.010    -14.069      0.000      -0.162      -0.122\n",
       "ecep2         -2.0074      0.127    -15.814      0.000      -2.256      -1.759\n",
       "ecyj2        -14.1347     11.116     -1.272      0.204     -35.922       7.652\n",
       "ecyz2        -28.6628     15.543     -1.844      0.065     -59.126       1.800\n",
       "ecbd2         24.9993      9.775      2.557      0.011       5.840      44.159\n",
       "mom2           0.1610      0.848      0.190      0.849      -1.501       1.823\n",
       "==============================================================================\n",
       "\n",
       "Possibly complete quasi-separation: A fraction 0.12 of observations can be\n",
       "perfectly predicted. This might indicate that there is complete\n",
       "quasi-separation. In this case some parameters will not be identified.\n",
       "\"\"\""
      ]
     },
     "execution_count": 380,
     "metadata": {},
     "output_type": "execute_result"
    }
   ],
   "source": [
    "model.fit().summary()"
   ]
  },
  {
   "cell_type": "code",
   "execution_count": 381,
   "metadata": {},
   "outputs": [
    {
     "name": "stdout",
     "output_type": "stream",
     "text": [
      "Optimization terminated successfully.\n",
      "         Current function value: 0.033299\n",
      "         Iterations 11\n"
     ]
    }
   ],
   "source": [
    "pre = model.predict(model.fit().params,xs)"
   ]
  },
  {
   "cell_type": "code",
   "execution_count": 395,
   "metadata": {},
   "outputs": [
    {
     "data": {
      "text/plain": [
       " 0.0    13522\n",
       " 1.0       61\n",
       "-1.0       17\n",
       "Name: default, dtype: int64"
      ]
     },
     "execution_count": 395,
     "metadata": {},
     "output_type": "execute_result"
    }
   ],
   "source": [
    "(y-map(float,pre>0.3)).value_counts()"
   ]
  },
  {
   "cell_type": "code",
   "execution_count": 390,
   "metadata": {},
   "outputs": [
    {
     "data": {
      "text/plain": [
       "array([ 0.96266874,  0.95622091,  0.92642125,  0.55691373,  0.91683613,\n",
       "        0.77718689,  0.9500811 ,  0.65426162,  0.87913292,  0.69752659,\n",
       "        0.52528697,  0.63731458,  0.64522404,  0.99993339,  0.99993249,\n",
       "        0.62995302])"
      ]
     },
     "execution_count": 390,
     "metadata": {},
     "output_type": "execute_result"
    }
   ],
   "source": [
    "pre[pre>0.5]"
   ]
  },
  {
   "cell_type": "code",
   "execution_count": 396,
   "metadata": {},
   "outputs": [
    {
     "data": {
      "text/plain": [
       "0.0    13531\n",
       "1.0       69\n",
       "Name: default, dtype: int64"
      ]
     },
     "execution_count": 396,
     "metadata": {},
     "output_type": "execute_result"
    }
   ],
   "source": [
    "y.value_counts()"
   ]
  },
  {
   "cell_type": "code",
   "execution_count": null,
   "metadata": {
    "collapsed": true
   },
   "outputs": [],
   "source": []
  },
  {
   "cell_type": "code",
   "execution_count": null,
   "metadata": {
    "collapsed": true
   },
   "outputs": [],
   "source": []
  }
 ],
 "metadata": {
  "kernelspec": {
   "display_name": "Python 2",
   "language": "python",
   "name": "python2"
  },
  "language_info": {
   "codemirror_mode": {
    "name": "ipython",
    "version": 2
   },
   "file_extension": ".py",
   "mimetype": "text/x-python",
   "name": "python",
   "nbconvert_exporter": "python",
   "pygments_lexer": "ipython2",
   "version": "2.7.14"
  }
 },
 "nbformat": 4,
 "nbformat_minor": 2
}

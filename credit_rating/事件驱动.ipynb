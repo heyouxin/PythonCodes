{
 "cells": [
  {
   "cell_type": "code",
   "execution_count": 2,
   "metadata": {
    "collapsed": true
   },
   "outputs": [],
   "source": [
    "\n",
    "from __future__ import division, unicode_literals\n",
    "import pandas as pd\n",
    "import pymysql\n",
    "import pymssql\n",
    "from sqlalchemy import create_engine\n",
    "import re\n",
    "import numpy as np\n",
    "import statsmodels.api as sm\n",
    "from scipy.stats import *\n",
    "from sklearn import preprocessing\n",
    "import datetime\n",
    "import re\n",
    "\n",
    "gdb = ''\n",
    "ghost = ''\n",
    "guser = ''\n",
    "gpassword = ''\n",
    "gdatabase = ''\n",
    "conn = ''\n",
    "engine = ''\n",
    "\n",
    "\n",
    "\n",
    "def set_sql(gdb, ghost, guser, gpassword, gdatabase):\n",
    "    global db, host, user, password, database, engine, conn\n",
    "    db = gdb\n",
    "    host = ghost\n",
    "    user = guser\n",
    "    password = gpassword\n",
    "    database = gdatabase\n",
    "    engine = set_engine()\n",
    "    conn = set_conn()\n",
    "\n",
    "\n",
    "def set_engine():\n",
    "    global engine\n",
    "    try:\n",
    "        engine.close()\n",
    "    except:\n",
    "        pass\n",
    "    if db.lower() == 'mysql':\n",
    "        engine = create_engine('mysql+pymysql://' + user + ':' + password + '@' + host + '/' + database)\n",
    "    if db.lower() == 'mssql':\n",
    "        engine = create_engine('mssql+pyodbc://' + user + ':' + password + '@' + host + '/' + database)\n",
    "    return engine\n",
    "\n",
    "\n",
    "\n",
    "def set_conn():\n",
    "    if db.lower() == 'mysql':\n",
    "        conn = pymysql.connect(host=host, user=user, password=password, db=database, charset='utf8')\n",
    "    if db.lower() == 'mssql':\n",
    "        conn = pymssql.connect(host=host, user=user, password=password, database=database, charset=\"utf8\")\n",
    "    return conn\n",
    "\n",
    "\n",
    "def execute_sql(sql_str, conn):\n",
    "    cursor = conn.cursor()\n",
    "    cursor.execute(sql_str)\n",
    "    conn.commit()\n",
    "\n",
    "\n",
    "\n",
    "def search_sql(sql_str):\n",
    "    s = pd.read_sql(sql_str, conn)\n",
    "    return s\n",
    "\n",
    "\n",
    "\n",
    "def to_sql(df, table_name):\n",
    "    try:\n",
    "        df.to_sql(table_name, engine, if_exists='append')\n",
    "    except IOError as e:\n",
    "        print('to sql error! \\n ' + e)"
   ]
  },
  {
   "cell_type": "code",
   "execution_count": 3,
   "metadata": {
    "collapsed": true
   },
   "outputs": [],
   "source": [
    "set_sql('mysql', '172.16.8.184', 'qc_data', 'wisesoe.qc', 'qc_data')"
   ]
  },
  {
   "cell_type": "code",
   "execution_count": 7,
   "metadata": {
    "collapsed": true
   },
   "outputs": [],
   "source": [
    "data = pd.read_csv('~/default.csv')"
   ]
  },
  {
   "cell_type": "code",
   "execution_count": 3,
   "metadata": {
    "collapsed": false
   },
   "outputs": [
    {
     "ename": "NameError",
     "evalue": "name 'set_sql' is not defined",
     "output_type": "error",
     "traceback": [
      "\u001b[0;31m---------------------------------------------------------------------------\u001b[0m",
      "\u001b[0;31mNameError\u001b[0m                                 Traceback (most recent call last)",
      "\u001b[0;32m<ipython-input-3-3b27c15b06a7>\u001b[0m in \u001b[0;36m<module>\u001b[0;34m()\u001b[0m\n\u001b[0;32m----> 1\u001b[0;31m \u001b[0mset_sql\u001b[0m\u001b[1;33m(\u001b[0m\u001b[1;34m'mysql'\u001b[0m\u001b[1;33m,\u001b[0m \u001b[1;34m'172.16.8.184'\u001b[0m\u001b[1;33m,\u001b[0m \u001b[1;34m'qc_data'\u001b[0m\u001b[1;33m,\u001b[0m \u001b[1;34m'wisesoe.qc'\u001b[0m\u001b[1;33m,\u001b[0m \u001b[1;34m'qc_data'\u001b[0m\u001b[1;33m)\u001b[0m\u001b[1;33m\u001b[0m\u001b[0m\n\u001b[0m",
      "\u001b[0;31mNameError\u001b[0m: name 'set_sql' is not defined"
     ]
    }
   ],
   "source": [
    "set_sql('mysql', '172.16.8.184', 'qc_data', 'wisesoe.qc', 'qc_data')"
   ]
  },
  {
   "cell_type": "code",
   "execution_count": 2,
   "metadata": {
    "collapsed": false
   },
   "outputs": [
    {
     "ename": "NameError",
     "evalue": "name 'search_sql' is not defined",
     "output_type": "error",
     "traceback": [
      "\u001b[0;31m---------------------------------------------------------------------------\u001b[0m",
      "\u001b[0;31mNameError\u001b[0m                                 Traceback (most recent call last)",
      "\u001b[0;32m<ipython-input-2-1e625dff8eeb>\u001b[0m in \u001b[0;36m<module>\u001b[0;34m()\u001b[0m\n\u001b[0;32m----> 1\u001b[0;31m \u001b[0mindu\u001b[0m \u001b[1;33m=\u001b[0m \u001b[0msearch_sql\u001b[0m\u001b[1;33m(\u001b[0m\u001b[1;34m'select * from induindex'\u001b[0m\u001b[1;33m)\u001b[0m\u001b[1;33m\u001b[0m\u001b[0m\n\u001b[0m",
      "\u001b[0;31mNameError\u001b[0m: name 'search_sql' is not defined"
     ]
    }
   ],
   "source": [
    "indu = search_sql('select * from induindex')"
   ]
  },
  {
   "cell_type": "code",
   "execution_count": 69,
   "metadata": {
    "collapsed": true
   },
   "outputs": [],
   "source": [
    "test = data[data['default_ann_date']>='2016-01-05']"
   ]
  },
  {
   "cell_type": "code",
   "execution_count": 1,
   "metadata": {
    "collapsed": false
   },
   "outputs": [
    {
     "ename": "NameError",
     "evalue": "name 'indu' is not defined",
     "output_type": "error",
     "traceback": [
      "\u001b[0;31m---------------------------------------------------------------------------\u001b[0m",
      "\u001b[0;31mNameError\u001b[0m                                 Traceback (most recent call last)",
      "\u001b[0;32m<ipython-input-1-9e727bcf4688>\u001b[0m in \u001b[0;36m<module>\u001b[0;34m()\u001b[0m\n\u001b[0;32m----> 1\u001b[0;31m \u001b[0mindu\u001b[0m\u001b[1;33m\u001b[0m\u001b[0m\n\u001b[0m",
      "\u001b[0;31mNameError\u001b[0m: name 'indu' is not defined"
     ]
    }
   ],
   "source": [
    "indu"
   ]
  },
  {
   "cell_type": "code",
   "execution_count": 18,
   "metadata": {
    "collapsed": true
   },
   "outputs": [],
   "source": [
    "hy ={'33':'制造业','34':'制造业','30':'制造业','25':'制造业','26':'制造业','60':'制造业','28':'制造业','27':'制造业',\n",
    "     '22':'制造业','35':'卫生和社会工作','23':'建筑业','24':'建筑业','42':'房地产业','31':'批发和零售业','36':'批发和零售业',\n",
    "    '63':'文化、体育和娱乐业','20':'电力、热力、燃气及水生产和供应业','40':'金融业','41':'金融业','11':'采矿业','12':'采矿业',\n",
    "    '70':'综合','32':'住宿和餐饮业','50':'交通运输、仓储和邮政业','60':'信息传输、软件和信息技术服务业',\n",
    "    '61':'信息传输、软件和信息技术服务业','62':'信息传输、软件和信息技术服务业','37':'农、林、牧、渔业','10':'采矿业','21':'采矿业'}\n",
    "\n"
   ]
  },
  {
   "cell_type": "code",
   "execution_count": 52,
   "metadata": {
    "collapsed": true
   },
   "outputs": [],
   "source": [
    "indu['code'] = indu['indu'].map(hy)"
   ]
  },
  {
   "cell_type": "code",
   "execution_count": null,
   "metadata": {
    "collapsed": true
   },
   "outputs": [],
   "source": []
  },
  {
   "cell_type": "code",
   "execution_count": 48,
   "metadata": {
    "collapsed": true
   },
   "outputs": [],
   "source": [
    "group = indu.groupby('code')"
   ]
  },
  {
   "cell_type": "code",
   "execution_count": 62,
   "metadata": {
    "collapsed": true
   },
   "outputs": [],
   "source": [
    "index = search_sql('select ret,date from zhishu where qtid=\"000300.SH\"')"
   ]
  },
  {
   "cell_type": "code",
   "execution_count": 86,
   "metadata": {
    "collapsed": true
   },
   "outputs": [],
   "source": [
    "index['date'] = map(str,list(index['date']))"
   ]
  },
  {
   "cell_type": "code",
   "execution_count": 29,
   "metadata": {
    "collapsed": true
   },
   "outputs": [],
   "source": [
    "dates = search_sql('select * from dates where isOpen=1')"
   ]
  },
  {
   "cell_type": "code",
   "execution_count": 30,
   "metadata": {
    "collapsed": true
   },
   "outputs": [],
   "source": [
    "dates['index']  =range(len(dates))"
   ]
  },
  {
   "cell_type": "code",
   "execution_count": 182,
   "metadata": {
    "collapsed": false
   },
   "outputs": [
    {
     "name": "stderr",
     "output_type": "stream",
     "text": [
      "/usr/local/lib/python2.7/dist-packages/ipykernel_launcher.py:9: SettingWithCopyWarning: \n",
      "A value is trying to be set on a copy of a slice from a DataFrame.\n",
      "Try using .loc[row_indexer,col_indexer] = value instead\n",
      "\n",
      "See the caveats in the documentation: http://pandas.pydata.org/pandas-docs/stable/indexing.html#indexing-view-versus-copy\n",
      "  if __name__ == '__main__':\n",
      "/usr/local/lib/python2.7/dist-packages/ipykernel_launcher.py:15: SettingWithCopyWarning: \n",
      "A value is trying to be set on a copy of a slice from a DataFrame.\n",
      "Try using .loc[row_indexer,col_indexer] = value instead\n",
      "\n",
      "See the caveats in the documentation: http://pandas.pydata.org/pandas-docs/stable/indexing.html#indexing-view-versus-copy\n",
      "  from ipykernel import kernelapp as app\n"
     ]
    }
   ],
   "source": [
    "con1= []\n",
    "con2 = []\n",
    "for i in range(len(test)):\n",
    "    try:\n",
    "        start = dates.iloc[dates[dates['date']==test.iloc[i]['default_ann_date']].index-250]['date'].values[0]\n",
    "        end = dates.iloc[dates[dates['date']==test.iloc[i]['default_ann_date']].index-20]['date'].values[0]\n",
    "        post = dates.iloc[dates[dates['date']==test.iloc[i]['default_ann_date']].index+15]['date'].values[0]\n",
    "        every = group.get_group(test.iloc[i]['industry_name'].decode('utf-8'))\n",
    "        every['date'] = map(str,list(every['date']))\n",
    "        ev= every[(every['date']>=start) & (every['date']<=end)]\n",
    "        mkt = index[(index['date']>=start) & ((index['date']<=end))]\n",
    "        ev1 =every[(every['date']>=end) & (every['date']<=test.iloc[i]['default_ann_date'])]\n",
    "        mk1 = index[(index['date']>=end) & (index['date']<=test.iloc[i]['default_ann_date'])]\n",
    "        indus = indu[indu['code']!=test.iloc[i]['industry_name'].decode('utf-8')]\n",
    "        indus['date'] = map(str,list(indus['date']))\n",
    "        ot= indus[(indus['date']>=start) & (indus['date']<=end)]\n",
    "        ot1 =indus[(indus['date']>=end) & (indus['date']<=test.iloc[i]['default_ann_date'])]\n",
    "        gg = ev.groupby('indu')\n",
    "        gg1 = ev1.groupby('indu')\n",
    "        go = ot.groupby('indu')\n",
    "        go1 = ot1.groupby('indu')\n",
    "        res = []\n",
    "        for k in gg.groups.keys():\n",
    "            te = gg.get_group(k)\n",
    "            te1 = gg1.get_group(k)\n",
    "            beta = sm.OLS(np.array(te['ret']),sm.add_constant(np.array(mkt['ret']))).fit().params[1]\n",
    "            res.append(pd.Series(np.array(te1['ret'])-np.array(mk1['ret'])*beta).cumsum())\n",
    "        event = pd.DataFrame(res).mean()\n",
    "        ress = []\n",
    "        for m in go.groups.keys():\n",
    "            toe =go.get_group(m)\n",
    "            toe1 =go1.get_group(m)\n",
    "            beta = sm.OLS(np.array(toe['ret']),sm.add_constant(np.array(mkt['ret']))).fit().params[1]\n",
    "            ress.append(pd.Series(np.array(toe1['ret'])-np.array(mk1['ret'])*beta).cumsum())\n",
    "        noevent = pd.DataFrame(ress).mean()\n",
    "        con1.append(event)\n",
    "        con2.append(noevent)\n",
    "    except:\n",
    "        pass"
   ]
  },
  {
   "cell_type": "code",
   "execution_count": 183,
   "metadata": {
    "collapsed": false
   },
   "outputs": [
    {
     "data": {
      "text/plain": [
       "<matplotlib.axes._subplots.AxesSubplot at 0x7fe72c708ad0>"
      ]
     },
     "execution_count": 183,
     "metadata": {},
     "output_type": "execute_result"
    },
    {
     "data": {
      "image/png": "[encoded data removed]",
      "text/plain": [
       "<matplotlib.figure.Figure at 0x7fe72c742750>"
      ]
     },
     "metadata": {},
     "output_type": "display_data"
    }
   ],
   "source": [
    "pd.DataFrame(con1).mean().plot()\n",
    "pd.DataFrame(con2).mean().plot()\n"
   ]
  },
  {
   "cell_type": "code",
   "execution_count": 179,
   "metadata": {
    "collapsed": false
   },
   "outputs": [
    {
     "name": "stderr",
     "output_type": "stream",
     "text": [
      "/usr/local/lib/python2.7/dist-packages/ipykernel_launcher.py:9: SettingWithCopyWarning: \n",
      "A value is trying to be set on a copy of a slice from a DataFrame.\n",
      "Try using .loc[row_indexer,col_indexer] = value instead\n",
      "\n",
      "See the caveats in the documentation: http://pandas.pydata.org/pandas-docs/stable/indexing.html#indexing-view-versus-copy\n",
      "  if __name__ == '__main__':\n"
     ]
    }
   ],
   "source": [
    "con1= []\n",
    "con3 = []\n",
    "for i in range(len(test)):\n",
    "    try:\n",
    "        start = dates.iloc[dates[dates['date']==test.iloc[i]['default_ann_date']].index-250]['date'].values[0]\n",
    "        end = dates.iloc[dates[dates['date']==test.iloc[i]['default_ann_date']].index-15]['date'].values[0]\n",
    "        post = dates.iloc[dates[dates['date']==test.iloc[i]['default_ann_date']].index+15]['date'].values[0]\n",
    "        every = group.get_group(test.iloc[i]['industry_name'].decode('utf-8'))\n",
    "        every['date'] = map(str,list(every['date']))\n",
    "        ev= every[(every['date']>=start) & (every['date']<=end)]\n",
    "        mkt = index[(index['date']>=start) & ((index['date']<=end))]\n",
    "        ev1 =every[(every['date']>=end) & (every['date']<=test.iloc[i]['default_ann_date'])]\n",
    "        mk1 = index[(index['date']>=end) & (index['date']<=test.iloc[i]['default_ann_date'])]\n",
    "        indus = indu#indu[indu['code']!=test.iloc[i]['industry_name'].decode('utf-8')]\n",
    "        indus['date'] = map(str,list(indus['date']))\n",
    "        ot= indus[(indus['date']>=start) & (indus['date']<=end)]\n",
    "        ot1 =indus[(indus['date']>=end) & (indus['date']<=test.iloc[i]['default_ann_date'])]\n",
    "        gg = ev.groupby('indu')\n",
    "        gg1 = ev1.groupby('indu')\n",
    "        go = ot.groupby('indu')\n",
    "        go1 = ot1.groupby('indu')\n",
    "        res = []\n",
    "        for k in gg.groups.keys():\n",
    "            te = gg.get_group(k)\n",
    "            te1 = gg1.get_group(k)\n",
    "            beta = sm.OLS(np.array(te['ret']),sm.add_constant(np.array(mkt['ret']))).fit().params[1]\n",
    "            res.append(pd.Series(np.array(te1['ret'])-np.array(mk1['ret'])*beta).cumsum())\n",
    "        event = pd.DataFrame(res).mean()\n",
    "        ress = []\n",
    "        for m in go.groups.keys():\n",
    "            toe =go.get_group(m)\n",
    "            toe1 =go1.get_group(m)\n",
    "            beta = sm.OLS(np.array(toe['ret']),sm.add_constant(np.array(mkt['ret']))).fit().params[1]\n",
    "            ress.append(pd.Series(np.array(toe1['ret'])-np.array(mk1['ret'])*beta).cumsum())\n",
    "        noevent = pd.DataFrame(ress).mean()\n",
    "        con1.append(event)\n",
    "        con3.append(noevent)\n",
    "    except:\n",
    "        pass"
   ]
  },
  {
   "cell_type": "code",
   "execution_count": null,
   "metadata": {
    "collapsed": true
   },
   "outputs": [],
   "source": []
  },
  {
   "cell_type": "code",
   "execution_count": 80,
   "metadata": {
    "collapsed": true
   },
   "outputs": [],
   "source": [
    "start = dates.iloc[dates[dates['date']==test.iloc[0]['default_ann_date']].index-270]['date'].values[0]\n",
    "end = dates.iloc[dates[dates['date']==test.iloc[0]['default_ann_date']].index-30]['date'].values[0]"
   ]
  },
  {
   "cell_type": "code",
   "execution_count": 46,
   "metadata": {
    "collapsed": false
   },
   "outputs": [
    {
     "data": {
      "text/plain": [
       "u'\\u4f4f\\u5bbf\\u548c\\u9910\\u996e\\u4e1a'"
      ]
     },
     "execution_count": 46,
     "metadata": {},
     "output_type": "execute_result"
    }
   ],
   "source": [
    "group.groups.keys()[0]"
   ]
  },
  {
   "cell_type": "code",
   "execution_count": 66,
   "metadata": {
    "collapsed": true
   },
   "outputs": [],
   "source": [
    "every = group.get_group(test.iloc[0]['industry_name'].decode('utf-8'))"
   ]
  },
  {
   "cell_type": "code",
   "execution_count": 73,
   "metadata": {
    "collapsed": false
   },
   "outputs": [
    {
     "name": "stderr",
     "output_type": "stream",
     "text": [
      "/usr/local/lib/python2.7/dist-packages/ipykernel_launcher.py:1: SettingWithCopyWarning: \n",
      "A value is trying to be set on a copy of a slice from a DataFrame.\n",
      "Try using .loc[row_indexer,col_indexer] = value instead\n",
      "\n",
      "See the caveats in the documentation: http://pandas.pydata.org/pandas-docs/stable/indexing.html#indexing-view-versus-copy\n",
      "  \"\"\"Entry point for launching an IPython kernel.\n"
     ]
    }
   ],
   "source": [
    "every['date'] = map(str,list(every['date']))"
   ]
  },
  {
   "cell_type": "code",
   "execution_count": 81,
   "metadata": {
    "collapsed": false
   },
   "outputs": [
    {
     "data": {
      "text/plain": [
       "('2015-01-05', u'2016-02-19')"
      ]
     },
     "execution_count": 81,
     "metadata": {},
     "output_type": "execute_result"
    }
   ],
   "source": [
    "every['date'].iloc[0],start"
   ]
  },
  {
   "cell_type": "code",
   "execution_count": 84,
   "metadata": {
    "collapsed": true
   },
   "outputs": [],
   "source": [
    "ev= every[(every['date']>=start) & (every['date']<=end)]"
   ]
  },
  {
   "cell_type": "code",
   "execution_count": 114,
   "metadata": {
    "collapsed": true
   },
   "outputs": [],
   "source": [
    "mkt = index[(index['date']>=start) & ((index['date']<=end))]"
   ]
  },
  {
   "cell_type": "code",
   "execution_count": 127,
   "metadata": {
    "collapsed": true
   },
   "outputs": [],
   "source": [
    "ev1 =every[(every['date']>=end) & (every['date']<=test.iloc[0]['default_ann_date'])]\n",
    "mk1 = index[(index['date']>=end) & (index['date']<=test.iloc[0]['default_ann_date'])]"
   ]
  },
  {
   "cell_type": "code",
   "execution_count": 134,
   "metadata": {
    "collapsed": true
   },
   "outputs": [],
   "source": [
    "%matplotlib inline"
   ]
  },
  {
   "cell_type": "code",
   "execution_count": 126,
   "metadata": {
    "collapsed": false
   },
   "outputs": [
    {
     "data": {
      "text/plain": [
       "'2015-01-05'"
      ]
     },
     "execution_count": 126,
     "metadata": {},
     "output_type": "execute_result"
    }
   ],
   "source": [
    "every['date'].iloc[0]"
   ]
  },
  {
   "cell_type": "code",
   "execution_count": 92,
   "metadata": {
    "collapsed": true
   },
   "outputs": [],
   "source": [
    "import statsmodels.api as sm"
   ]
  },
  {
   "cell_type": "code",
   "execution_count": 136,
   "metadata": {
    "collapsed": false
   },
   "outputs": [
    {
     "data": {
      "image/png": "[encoded data removed]",
      "text/plain": [
       "<matplotlib.figure.Figure at 0x7fe731961f90>"
      ]
     },
     "metadata": {},
     "output_type": "display_data"
    }
   ],
   "source": [
    "gg = ev.groupby('indu')\n",
    "gg1 = ev1.groupby('indu')\n",
    "for i in gg.groups.keys():\n",
    "    te = gg.get_group(i)\n",
    "    te1 = gg1.get_group(i)\n",
    "    beta = sm.OLS(np.array(te['ret']),sm.add_constant(np.array(mkt['ret']))).fit().params[1]\n",
    "    pd.Series(np.array(te1['ret'])-np.array(mk1['ret'])*beta).cumsum().plot()"
   ]
  },
  {
   "cell_type": "code",
   "execution_count": null,
   "metadata": {
    "collapsed": true
   },
   "outputs": [],
   "source": []
  },
  {
   "cell_type": "code",
   "execution_count": 55,
   "metadata": {
    "collapsed": false
   },
   "outputs": [
    {
     "data": {
      "text/plain": [
       "u'\\u5236\\u9020\\u4e1a'"
      ]
     },
     "execution_count": 55,
     "metadata": {},
     "output_type": "execute_result"
    }
   ],
   "source": [
    "test.iloc[0]['industry_name'].decode('utf-8')"
   ]
  }
 ],
 "metadata": {
  "kernelspec": {
   "display_name": "Python 3",
   "language": "python",
   "name": "python3"
  },
  "language_info": {
   "codemirror_mode": {
    "name": "ipython",
    "version": 3
   },
   "file_extension": ".py",
   "mimetype": "text/x-python",
   "name": "python",
   "nbconvert_exporter": "python",
   "pygments_lexer": "ipython3",
   "version": "3.6.0"
  }
 },
 "nbformat": 4,
 "nbformat_minor": 2
}

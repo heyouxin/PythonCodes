{
 "cells": [
  {
   "cell_type": "markdown",
   "metadata": {},
   "source": [
    "#  结果展示 HS300 2005-2017年数据  每年6.30进行成分及市值等调整"
   ]
  },
  {
   "cell_type": "markdown",
   "metadata": {},
   "source": [
    "##  导入用于计算因子和回归封装好的函数文件"
   ]
  },
  {
   "cell_type": "code",
   "execution_count": 2,
   "metadata": {
    "collapsed": false
   },
   "outputs": [],
   "source": [
    "from FAMA_factors import calc_factors,do_regression_CAPM,do_regression_2factors,do_regression_3factors,do_regression_4factors"
   ]
  },
  {
   "cell_type": "markdown",
   "metadata": {},
   "source": [
    "##  计算四个因子和因变量，因有25个回归不好展示，以下仅展示第一组(即最低市值，最低账面市值比)的回归结果"
   ]
  },
  {
   "cell_type": "code",
   "execution_count": 3,
   "metadata": {
    "collapsed": true
   },
   "outputs": [],
   "source": [
    "if __name__ == \"__main__\":\n",
    "\n",
    "    (R_25_group,SMB,HML,Rm_Rf,UMD)=calc_factors()"
   ]
  },
  {
   "cell_type": "markdown",
   "metadata": {},
   "source": [
    "## CAPM 模型的回归结果"
   ]
  },
  {
   "cell_type": "code",
   "execution_count": 4,
   "metadata": {
    "collapsed": false
   },
   "outputs": [
    {
     "name": "stdout",
     "output_type": "stream",
     "text": [
      "                            OLS Regression Results                            \n",
      "==============================================================================\n",
      "Dep. Variable:                      y   R-squared:                       0.411\n",
      "Model:                            OLS   Adj. R-squared:                  0.406\n",
      "Method:                 Least Squares   F-statistic:                     98.90\n",
      "Date:                Sat, 04 Nov 2017   Prob (F-statistic):           5.20e-18\n",
      "Time:                        00:23:48   Log-Likelihood:                 485.65\n",
      "No. Observations:                 144   AIC:                            -967.3\n",
      "Df Residuals:                     142   BIC:                            -961.4\n",
      "Df Model:                           1                                         \n",
      "Covariance Type:            nonrobust                                         \n",
      "==============================================================================\n",
      "                 coef    std err          t      P>|t|      [0.025      0.975]\n",
      "------------------------------------------------------------------------------\n",
      "const          0.0017      0.001      2.473      0.015       0.000       0.003\n",
      "x1             0.0745      0.007      9.945      0.000       0.060       0.089\n",
      "==============================================================================\n",
      "Omnibus:                       41.017   Durbin-Watson:                   1.777\n",
      "Prob(Omnibus):                  0.000   Jarque-Bera (JB):              154.012\n",
      "Skew:                           0.975   Prob(JB):                     3.60e-34\n",
      "Kurtosis:                       7.676   Cond. No.                         10.8\n",
      "==============================================================================\n",
      "\n",
      "Warnings:\n",
      "[1] Standard Errors assume that the covariance matrix of the errors is correctly specified.\n"
     ]
    }
   ],
   "source": [
    "print(do_regression_CAPM(R_25_group,Rm_Rf))"
   ]
  },
  {
   "cell_type": "markdown",
   "metadata": {},
   "source": [
    "## 二因子模型的回归结果"
   ]
  },
  {
   "cell_type": "code",
   "execution_count": 5,
   "metadata": {
    "collapsed": false
   },
   "outputs": [
    {
     "name": "stdout",
     "output_type": "stream",
     "text": [
      "                            OLS Regression Results                            \n",
      "==============================================================================\n",
      "Dep. Variable:                      y   R-squared:                       0.628\n",
      "Model:                            OLS   Adj. R-squared:                  0.623\n",
      "Method:                 Least Squares   F-statistic:                     119.0\n",
      "Date:                Sat, 04 Nov 2017   Prob (F-statistic):           5.27e-31\n",
      "Time:                        00:23:54   Log-Likelihood:                 518.80\n",
      "No. Observations:                 144   AIC:                            -1032.\n",
      "Df Residuals:                     141   BIC:                            -1023.\n",
      "Df Model:                           2                                         \n",
      "Covariance Type:            nonrobust                                         \n",
      "==============================================================================\n",
      "                 coef    std err          t      P>|t|      [0.025      0.975]\n",
      "------------------------------------------------------------------------------\n",
      "const         -0.0004      0.001     -0.675      0.500      -0.002       0.001\n",
      "x1            -0.0499      0.015     -3.340      0.001      -0.079      -0.020\n",
      "x2             0.7357      0.081      9.079      0.000       0.576       0.896\n",
      "==============================================================================\n",
      "Omnibus:                       21.810   Durbin-Watson:                   2.005\n",
      "Prob(Omnibus):                  0.000   Jarque-Bera (JB):               68.223\n",
      "Skew:                           0.477   Prob(JB):                     1.53e-15\n",
      "Kurtosis:                       6.235   Cond. No.                         148.\n",
      "==============================================================================\n",
      "\n",
      "Warnings:\n",
      "[1] Standard Errors assume that the covariance matrix of the errors is correctly specified.\n"
     ]
    }
   ],
   "source": [
    "print(do_regression_2factors(R_25_group,Rm_Rf,HML))"
   ]
  },
  {
   "cell_type": "markdown",
   "metadata": {},
   "source": [
    "##  三因子模型的回归结果"
   ]
  },
  {
   "cell_type": "code",
   "execution_count": 6,
   "metadata": {
    "collapsed": false
   },
   "outputs": [
    {
     "name": "stdout",
     "output_type": "stream",
     "text": [
      "                            OLS Regression Results                            \n",
      "==============================================================================\n",
      "Dep. Variable:                      y   R-squared:                       0.633\n",
      "Model:                            OLS   Adj. R-squared:                  0.625\n",
      "Method:                 Least Squares   F-statistic:                     80.41\n",
      "Date:                Sat, 04 Nov 2017   Prob (F-statistic):           2.67e-30\n",
      "Time:                        00:23:58   Log-Likelihood:                 519.72\n",
      "No. Observations:                 144   AIC:                            -1031.\n",
      "Df Residuals:                     140   BIC:                            -1020.\n",
      "Df Model:                           3                                         \n",
      "Covariance Type:            nonrobust                                         \n",
      "==============================================================================\n",
      "                 coef    std err          t      P>|t|      [0.025      0.975]\n",
      "------------------------------------------------------------------------------\n",
      "const         -0.0004      0.001     -0.662      0.509      -0.002       0.001\n",
      "x1            -0.0471      0.015     -3.130      0.002      -0.077      -0.017\n",
      "x2             1.0720      0.263      4.075      0.000       0.552       1.592\n",
      "x3            -0.3401      0.253     -1.343      0.181      -0.841       0.160\n",
      "==============================================================================\n",
      "Omnibus:                       22.738   Durbin-Watson:                   2.015\n",
      "Prob(Omnibus):                  0.000   Jarque-Bera (JB):               73.381\n",
      "Skew:                           0.494   Prob(JB):                     1.16e-16\n",
      "Kurtosis:                       6.355   Cond. No.                         651.\n",
      "==============================================================================\n",
      "\n",
      "Warnings:\n",
      "[1] Standard Errors assume that the covariance matrix of the errors is correctly specified.\n"
     ]
    }
   ],
   "source": [
    "print(do_regression_3factors(R_25_group,Rm_Rf,HML,SMB))"
   ]
  },
  {
   "cell_type": "markdown",
   "metadata": {},
   "source": [
    "##  四因子模型的回归结果"
   ]
  },
  {
   "cell_type": "code",
   "execution_count": 7,
   "metadata": {
    "collapsed": false
   },
   "outputs": [
    {
     "name": "stdout",
     "output_type": "stream",
     "text": [
      "                            OLS Regression Results                            \n",
      "==============================================================================\n",
      "Dep. Variable:                      y   R-squared:                       0.642\n",
      "Model:                            OLS   Adj. R-squared:                  0.632\n",
      "Method:                 Least Squares   F-statistic:                     62.30\n",
      "Date:                Sat, 04 Nov 2017   Prob (F-statistic):           4.56e-30\n",
      "Time:                        00:24:01   Log-Likelihood:                 521.54\n",
      "No. Observations:                 144   AIC:                            -1033.\n",
      "Df Residuals:                     139   BIC:                            -1018.\n",
      "Df Model:                           4                                         \n",
      "Covariance Type:            nonrobust                                         \n",
      "==============================================================================\n",
      "                 coef    std err          t      P>|t|      [0.025      0.975]\n",
      "------------------------------------------------------------------------------\n",
      "const         -0.0005      0.001     -0.854      0.394      -0.002       0.001\n",
      "x1            -0.0397      0.015     -2.571      0.011      -0.070      -0.009\n",
      "x2             1.0758      0.261      4.126      0.000       0.560       1.591\n",
      "x3            -0.3821      0.252     -1.517      0.131      -0.880       0.116\n",
      "x4             0.0137      0.007      1.888      0.061      -0.001       0.028\n",
      "==============================================================================\n",
      "Omnibus:                       13.537   Durbin-Watson:                   1.938\n",
      "Prob(Omnibus):                  0.001   Jarque-Bera (JB):               32.770\n",
      "Skew:                           0.278   Prob(JB):                     7.66e-08\n",
      "Kurtosis:                       5.270   Cond. No.                         652.\n",
      "==============================================================================\n",
      "\n",
      "Warnings:\n",
      "[1] Standard Errors assume that the covariance matrix of the errors is correctly specified.\n"
     ]
    }
   ],
   "source": [
    "print(do_regression_4factors(R_25_group,Rm_Rf,HML,SMB,UMD))"
   ]
  }
 ],
 "metadata": {
  "celltoolbar": "Edit Metadata",
  "kernelspec": {
   "display_name": "Python 3",
   "language": "python",
   "name": "python3"
  },
  "language_info": {
   "codemirror_mode": {
    "name": "ipython",
    "version": 3
   },
   "file_extension": ".py",
   "mimetype": "text/x-python",
   "name": "python",
   "nbconvert_exporter": "python",
   "pygments_lexer": "ipython3",
   "version": "3.6.0"
  }
 },
 "nbformat": 4,
 "nbformat_minor": 2
}

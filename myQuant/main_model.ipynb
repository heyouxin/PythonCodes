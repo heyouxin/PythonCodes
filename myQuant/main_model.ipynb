{
 "cells": [
  {
   "cell_type": "markdown",
   "metadata": {},
   "source": [
    "#  结果展示 HS300 2005-2017年数据  每年6.30进行成分及市值等调整"
   ]
  },
  {
   "cell_type": "markdown",
   "metadata": {},
   "source": [
    "##  导入用于计算因子和回归封装好的函数文件"
   ]
  },
  {
   "cell_type": "code",
   "execution_count": 26,
   "metadata": {
    "collapsed": false
   },
   "outputs": [
    {
     "ename": "ImportError",
     "evalue": "cannot import name 'display'",
     "output_type": "error",
     "traceback": [
      "\u001b[0;31m---------------------------------------------------------------------------\u001b[0m",
      "\u001b[0;31mImportError\u001b[0m                               Traceback (most recent call last)",
      "\u001b[0;32m<ipython-input-26-d2d5455ea619>\u001b[0m in \u001b[0;36m<module>\u001b[0;34m()\u001b[0m\n\u001b[0;32m----> 1\u001b[0;31m \u001b[1;32mfrom\u001b[0m \u001b[0mFAMA_factors\u001b[0m \u001b[1;32mimport\u001b[0m \u001b[0mcalc_factors\u001b[0m\u001b[1;33m,\u001b[0m\u001b[0mdo_regression_CAPM\u001b[0m\u001b[1;33m,\u001b[0m\u001b[0mdo_regression_2factors\u001b[0m\u001b[1;33m,\u001b[0m\u001b[0mdo_regression_3factors\u001b[0m\u001b[1;33m,\u001b[0m\u001b[0mdo_regression_4factors\u001b[0m\u001b[1;33m,\u001b[0m\u001b[0mdisplay\u001b[0m\u001b[1;33m\u001b[0m\u001b[0m\n\u001b[0m\u001b[1;32m      2\u001b[0m \u001b[1;32mimport\u001b[0m \u001b[0mnumpy\u001b[0m \u001b[1;32mas\u001b[0m \u001b[0mnp\u001b[0m\u001b[1;33m\u001b[0m\u001b[0m\n\u001b[1;32m      3\u001b[0m \u001b[1;32mimport\u001b[0m \u001b[0mpandas\u001b[0m \u001b[1;32mas\u001b[0m \u001b[0mpd\u001b[0m\u001b[1;33m\u001b[0m\u001b[0m\n",
      "\u001b[0;31mImportError\u001b[0m: cannot import name 'display'"
     ]
    }
   ],
   "source": [
    "from FAMA_factors import calc_factors,do_regression_CAPM,do_regression_2factors,\\\n",
    "do_regression_3factors,do_regression_4factors,display\n",
    "import numpy as np\n",
    "import pandas as pd"
   ]
  },
  {
   "cell_type": "markdown",
   "metadata": {},
   "source": [
    "##  计算四个因子和因变量，因有25个回归不好展示，以下仅展示第一组(即最低市值，最低账面市值比)的回归结果"
   ]
  },
  {
   "cell_type": "code",
   "execution_count": 2,
   "metadata": {
    "collapsed": true
   },
   "outputs": [],
   "source": [
    "if __name__ == \"__main__\":\n",
    "\n",
    "    (R_25_group,SMB,HML,Rm_Rf,UMD)=calc_factors()"
   ]
  },
  {
   "cell_type": "markdown",
   "metadata": {},
   "source": [
    "## CAPM 模型的回归结果"
   ]
  },
  {
   "cell_type": "code",
   "execution_count": 3,
   "metadata": {
    "collapsed": false
   },
   "outputs": [
    {
     "name": "stdout",
     "output_type": "stream",
     "text": [
      "                            OLS Regression Results                            \n",
      "==============================================================================\n",
      "Dep. Variable:                      y   R-squared:                       0.681\n",
      "Model:                            OLS   Adj. R-squared:                  0.679\n",
      "Method:                 Least Squares   F-statistic:                     303.6\n",
      "Date:                Sat, 04 Nov 2017   Prob (F-statistic):           4.42e-37\n",
      "Time:                        20:23:32   Log-Likelihood:                 547.06\n",
      "No. Observations:                 144   AIC:                            -1090.\n",
      "Df Residuals:                     142   BIC:                            -1084.\n",
      "Df Model:                           1                                         \n",
      "Covariance Type:            nonrobust                                         \n",
      "==============================================================================\n",
      "                 coef    std err          t      P>|t|      [0.025      0.975]\n",
      "------------------------------------------------------------------------------\n",
      "const          0.0010      0.000      2.167      0.032    8.72e-05       0.002\n",
      "x1             0.0852      0.005     17.424      0.000       0.076       0.095\n",
      "==============================================================================\n",
      "Omnibus:                      133.716   Durbin-Watson:                   2.503\n",
      "Prob(Omnibus):                  0.000   Jarque-Bera (JB):             4088.025\n",
      "Skew:                           2.947   Prob(JB):                         0.00\n",
      "Kurtosis:                      28.428   Cond. No.                         10.8\n",
      "==============================================================================\n",
      "\n",
      "Warnings:\n",
      "[1] Standard Errors assume that the covariance matrix of the errors is correctly specified.\n"
     ]
    }
   ],
   "source": [
    "#print(do_regression_CAPM(R_25_group,Rm_Rf))"
   ]
  },
  {
   "cell_type": "markdown",
   "metadata": {},
   "source": [
    "## 二因子模型的回归结果"
   ]
  },
  {
   "cell_type": "code",
   "execution_count": 4,
   "metadata": {
    "collapsed": false
   },
   "outputs": [
    {
     "name": "stdout",
     "output_type": "stream",
     "text": [
      "                            OLS Regression Results                            \n",
      "==============================================================================\n",
      "Dep. Variable:                      y   R-squared:                       0.689\n",
      "Model:                            OLS   Adj. R-squared:                  0.684\n",
      "Method:                 Least Squares   F-statistic:                     156.1\n",
      "Date:                Sat, 04 Nov 2017   Prob (F-statistic):           1.79e-36\n",
      "Time:                        20:23:32   Log-Likelihood:                 548.79\n",
      "No. Observations:                 144   AIC:                            -1092.\n",
      "Df Residuals:                     141   BIC:                            -1083.\n",
      "Df Model:                           2                                         \n",
      "Covariance Type:            nonrobust                                         \n",
      "==============================================================================\n",
      "                 coef    std err          t      P>|t|      [0.025      0.975]\n",
      "------------------------------------------------------------------------------\n",
      "const          0.0006      0.000      1.294      0.198      -0.000       0.002\n",
      "x1             0.0646      0.012      5.325      0.000       0.041       0.089\n",
      "x2             0.1216      0.066      1.849      0.067      -0.008       0.252\n",
      "==============================================================================\n",
      "Omnibus:                      123.082   Durbin-Watson:                   2.489\n",
      "Prob(Omnibus):                  0.000   Jarque-Bera (JB):             3241.370\n",
      "Skew:                           2.637   Prob(JB):                         0.00\n",
      "Kurtosis:                      25.636   Cond. No.                         148.\n",
      "==============================================================================\n",
      "\n",
      "Warnings:\n",
      "[1] Standard Errors assume that the covariance matrix of the errors is correctly specified.\n"
     ]
    }
   ],
   "source": [
    "#print(do_regression_2factors(R_25_group,Rm_Rf,HML))"
   ]
  },
  {
   "cell_type": "markdown",
   "metadata": {},
   "source": [
    "##  三因子模型的回归结果"
   ]
  },
  {
   "cell_type": "code",
   "execution_count": 5,
   "metadata": {
    "collapsed": false
   },
   "outputs": [
    {
     "name": "stdout",
     "output_type": "stream",
     "text": [
      "                            OLS Regression Results                            \n",
      "==============================================================================\n",
      "Dep. Variable:                      y   R-squared:                       0.689\n",
      "Model:                            OLS   Adj. R-squared:                  0.682\n",
      "Method:                 Least Squares   F-statistic:                     103.4\n",
      "Date:                Sat, 04 Nov 2017   Prob (F-statistic):           2.47e-35\n",
      "Time:                        20:23:32   Log-Likelihood:                 548.82\n",
      "No. Observations:                 144   AIC:                            -1090.\n",
      "Df Residuals:                     140   BIC:                            -1078.\n",
      "Df Model:                           3                                         \n",
      "Covariance Type:            nonrobust                                         \n",
      "==============================================================================\n",
      "                 coef    std err          t      P>|t|      [0.025      0.975]\n",
      "------------------------------------------------------------------------------\n",
      "const          0.0006      0.000      1.287      0.200      -0.000       0.002\n",
      "x1             0.0642      0.012      5.223      0.000       0.040       0.089\n",
      "x2             0.0724      0.215      0.337      0.737      -0.353       0.497\n",
      "x3             0.0498      0.207      0.241      0.810      -0.359       0.459\n",
      "==============================================================================\n",
      "Omnibus:                      123.469   Durbin-Watson:                   2.487\n",
      "Prob(Omnibus):                  0.000   Jarque-Bera (JB):             3272.141\n",
      "Skew:                           2.648   Prob(JB):                         0.00\n",
      "Kurtosis:                      25.744   Cond. No.                         651.\n",
      "==============================================================================\n",
      "\n",
      "Warnings:\n",
      "[1] Standard Errors assume that the covariance matrix of the errors is correctly specified.\n"
     ]
    }
   ],
   "source": [
    "#print(do_regression_3factors(R_25_group,Rm_Rf,HML,SMB))"
   ]
  },
  {
   "cell_type": "markdown",
   "metadata": {},
   "source": [
    "##  四因子模型的回归结果"
   ]
  },
  {
   "cell_type": "code",
   "execution_count": 6,
   "metadata": {
    "collapsed": false
   },
   "outputs": [
    {
     "name": "stdout",
     "output_type": "stream",
     "text": [
      "                            OLS Regression Results                            \n",
      "==============================================================================\n",
      "Dep. Variable:                      y   R-squared:                       0.701\n",
      "Model:                            OLS   Adj. R-squared:                  0.693\n",
      "Method:                 Least Squares   F-statistic:                     81.51\n",
      "Date:                Sat, 04 Nov 2017   Prob (F-statistic):           1.76e-35\n",
      "Time:                        20:23:32   Log-Likelihood:                 551.68\n",
      "No. Observations:                 144   AIC:                            -1093.\n",
      "Df Residuals:                     139   BIC:                            -1079.\n",
      "Df Model:                           4                                         \n",
      "Covariance Type:            nonrobust                                         \n",
      "==============================================================================\n",
      "                 coef    std err          t      P>|t|      [0.025      0.975]\n",
      "------------------------------------------------------------------------------\n",
      "const          0.0005      0.000      1.063      0.290      -0.000       0.001\n",
      "x1             0.0718      0.013      5.739      0.000       0.047       0.097\n",
      "x2             0.0762      0.211      0.360      0.719      -0.342       0.494\n",
      "x3             0.0069      0.204      0.034      0.973      -0.397       0.411\n",
      "x4             0.0139      0.006      2.375      0.019       0.002       0.026\n",
      "==============================================================================\n",
      "Omnibus:                       88.742   Durbin-Watson:                   2.493\n",
      "Prob(Omnibus):                  0.000   Jarque-Bera (JB):             1418.056\n",
      "Skew:                           1.751   Prob(JB):                    1.18e-308\n",
      "Kurtosis:                      17.969   Cond. No.                         652.\n",
      "==============================================================================\n",
      "\n",
      "Warnings:\n",
      "[1] Standard Errors assume that the covariance matrix of the errors is correctly specified.\n"
     ]
    }
   ],
   "source": [
    "#print(do_regression_4factors(R_25_group,Rm_Rf,HML,SMB,UMD))"
   ]
  },
  {
   "cell_type": "code",
   "execution_count": 21,
   "metadata": {
    "collapsed": false
   },
   "outputs": [
    {
     "name": "stdout",
     "output_type": "stream",
     "text": [
      "E(r_ei):\n"
     ]
    },
    {
     "data": {
      "text/html": [
       "<div>\n",
       "<style>\n",
       "    .dataframe thead tr:only-child th {\n",
       "        text-align: right;\n",
       "    }\n",
       "\n",
       "    .dataframe thead th {\n",
       "        text-align: left;\n",
       "    }\n",
       "\n",
       "    .dataframe tbody tr th {\n",
       "        vertical-align: top;\n",
       "    }\n",
       "</style>\n",
       "<table border=\"1\" class=\"dataframe\">\n",
       "  <thead>\n",
       "    <tr style=\"text-align: right;\">\n",
       "      <th></th>\n",
       "      <th>Low_BE/ME</th>\n",
       "      <th>2</th>\n",
       "      <th>3</th>\n",
       "      <th>4</th>\n",
       "      <th>High_BE/ME</th>\n",
       "    </tr>\n",
       "  </thead>\n",
       "  <tbody>\n",
       "    <tr>\n",
       "      <th>Small_Size</th>\n",
       "      <td>0.002573</td>\n",
       "      <td>0.002749</td>\n",
       "      <td>0.003225</td>\n",
       "      <td>0.002681</td>\n",
       "      <td>0.002708</td>\n",
       "    </tr>\n",
       "    <tr>\n",
       "      <th>2</th>\n",
       "      <td>0.002518</td>\n",
       "      <td>0.002260</td>\n",
       "      <td>0.002815</td>\n",
       "      <td>0.002699</td>\n",
       "      <td>0.002302</td>\n",
       "    </tr>\n",
       "    <tr>\n",
       "      <th>3</th>\n",
       "      <td>0.002628</td>\n",
       "      <td>0.002231</td>\n",
       "      <td>0.003079</td>\n",
       "      <td>0.002483</td>\n",
       "      <td>0.002722</td>\n",
       "    </tr>\n",
       "    <tr>\n",
       "      <th>4</th>\n",
       "      <td>0.002373</td>\n",
       "      <td>0.002343</td>\n",
       "      <td>0.001819</td>\n",
       "      <td>0.001887</td>\n",
       "      <td>0.002517</td>\n",
       "    </tr>\n",
       "    <tr>\n",
       "      <th>Big_Size</th>\n",
       "      <td>0.002095</td>\n",
       "      <td>0.001220</td>\n",
       "      <td>0.002443</td>\n",
       "      <td>0.001243</td>\n",
       "      <td>0.001952</td>\n",
       "    </tr>\n",
       "  </tbody>\n",
       "</table>\n",
       "</div>"
      ],
      "text/plain": [
       "            Low_BE/ME         2         3         4  High_BE/ME\n",
       "Small_Size   0.002573  0.002749  0.003225  0.002681    0.002708\n",
       "2            0.002518  0.002260  0.002815  0.002699    0.002302\n",
       "3            0.002628  0.002231  0.003079  0.002483    0.002722\n",
       "4            0.002373  0.002343  0.001819  0.001887    0.002517\n",
       "Big_Size     0.002095  0.001220  0.002443  0.001243    0.001952"
      ]
     },
     "execution_count": 21,
     "metadata": {},
     "output_type": "execute_result"
    }
   ],
   "source": [
    "    Er=pd.DataFrame(R_25_group.mean().values.reshape(5,5))\n",
    "    Er.columns=['Low_BE/ME','2','3','4','High_BE/ME']\n",
    "    Er.index=['Small_Size','2','3','4','Big_Size']\n",
    "    print('E(r_ei):')\n",
    "    Er"
   ]
  },
  {
   "cell_type": "code",
   "execution_count": 22,
   "metadata": {
    "collapsed": false
   },
   "outputs": [
    {
     "name": "stderr",
     "output_type": "stream",
     "text": [
      "C:\\ProgramData\\Anaconda3\\lib\\site-packages\\ipykernel\\__main__.py:1: FutureWarning: reshape is deprecated and will raise in a subsequent release. Please use .values.reshape(...) instead\n",
      "  if __name__ == '__main__':\n"
     ]
    },
    {
     "data": {
      "text/html": [
       "<div>\n",
       "<style>\n",
       "    .dataframe thead tr:only-child th {\n",
       "        text-align: right;\n",
       "    }\n",
       "\n",
       "    .dataframe thead th {\n",
       "        text-align: left;\n",
       "    }\n",
       "\n",
       "    .dataframe tbody tr th {\n",
       "        vertical-align: top;\n",
       "    }\n",
       "</style>\n",
       "<table border=\"1\" class=\"dataframe\">\n",
       "  <thead>\n",
       "    <tr style=\"text-align: right;\">\n",
       "      <th></th>\n",
       "      <th>Low_BE/ME</th>\n",
       "      <th>2</th>\n",
       "      <th>3</th>\n",
       "      <th>4</th>\n",
       "      <th>High_BE/ME</th>\n",
       "    </tr>\n",
       "  </thead>\n",
       "  <tbody>\n",
       "    <tr>\n",
       "      <th>Small_Size</th>\n",
       "      <td>0.002573</td>\n",
       "      <td>0.002749</td>\n",
       "      <td>0.003225</td>\n",
       "      <td>0.002681</td>\n",
       "      <td>0.002708</td>\n",
       "    </tr>\n",
       "    <tr>\n",
       "      <th>2</th>\n",
       "      <td>0.002518</td>\n",
       "      <td>0.002260</td>\n",
       "      <td>0.002815</td>\n",
       "      <td>0.002699</td>\n",
       "      <td>0.002302</td>\n",
       "    </tr>\n",
       "    <tr>\n",
       "      <th>3</th>\n",
       "      <td>0.002628</td>\n",
       "      <td>0.002231</td>\n",
       "      <td>0.003079</td>\n",
       "      <td>0.002483</td>\n",
       "      <td>0.002722</td>\n",
       "    </tr>\n",
       "    <tr>\n",
       "      <th>4</th>\n",
       "      <td>0.002373</td>\n",
       "      <td>0.002343</td>\n",
       "      <td>0.001819</td>\n",
       "      <td>0.001887</td>\n",
       "      <td>0.002517</td>\n",
       "    </tr>\n",
       "    <tr>\n",
       "      <th>Big_Size</th>\n",
       "      <td>0.002095</td>\n",
       "      <td>0.001220</td>\n",
       "      <td>0.002443</td>\n",
       "      <td>0.001243</td>\n",
       "      <td>0.001952</td>\n",
       "    </tr>\n",
       "  </tbody>\n",
       "</table>\n",
       "</div>"
      ],
      "text/plain": [
       "            Low_BE/ME         2         3         4  High_BE/ME\n",
       "Small_Size   0.002573  0.002749  0.003225  0.002681    0.002708\n",
       "2            0.002518  0.002260  0.002815  0.002699    0.002302\n",
       "3            0.002628  0.002231  0.003079  0.002483    0.002722\n",
       "4            0.002373  0.002343  0.001819  0.001887    0.002517\n",
       "Big_Size     0.002095  0.001220  0.002443  0.001243    0.001952"
      ]
     },
     "execution_count": 22,
     "metadata": {},
     "output_type": "execute_result"
    }
   ],
   "source": [
    "    Er=pd.DataFrame(R_25_group.mean().reshape(5,5))\n",
    "    columns=['Low_BE/ME','2','3','4','High_BE/ME']\n",
    "    index=['Small_Size','2','3','4','Big_Size']\n",
    "    Er.columns=columns\n",
    "    Er.index=index\n",
    "    Er\n",
    "    "
   ]
  },
  {
   "cell_type": "code",
   "execution_count": 24,
   "metadata": {
    "collapsed": false
   },
   "outputs": [
    {
     "ename": "TypeError",
     "evalue": "'Summary' object is not iterable",
     "output_type": "error",
     "traceback": [
      "\u001b[0;31m---------------------------------------------------------------------------\u001b[0m",
      "\u001b[0;31mTypeError\u001b[0m                                 Traceback (most recent call last)",
      "\u001b[0;32m<ipython-input-24-beb762676d06>\u001b[0m in \u001b[0;36m<module>\u001b[0;34m()\u001b[0m\n\u001b[0;32m----> 1\u001b[0;31m \u001b[1;33m(\u001b[0m\u001b[0malpha_CAPM\u001b[0m\u001b[1;33m,\u001b[0m\u001b[0mt_alpha\u001b[0m\u001b[1;33m,\u001b[0m\u001b[0mbelta_mkt\u001b[0m\u001b[1;33m)\u001b[0m\u001b[1;33m=\u001b[0m\u001b[1;33m(\u001b[0m\u001b[0mdo_regression_CAPM\u001b[0m\u001b[1;33m(\u001b[0m\u001b[0mR_25_group\u001b[0m\u001b[1;33m,\u001b[0m\u001b[0mRm_Rf\u001b[0m\u001b[1;33m)\u001b[0m\u001b[1;33m)\u001b[0m\u001b[1;33m\u001b[0m\u001b[0m\n\u001b[0m\u001b[1;32m      2\u001b[0m \u001b[0malpha_CAPM\u001b[0m\u001b[1;33m\u001b[0m\u001b[0m\n\u001b[1;32m      3\u001b[0m \u001b[0mt_alpha\u001b[0m\u001b[1;33m\u001b[0m\u001b[0m\n\u001b[1;32m      4\u001b[0m \u001b[0mbelta_mkt\u001b[0m\u001b[1;33m\u001b[0m\u001b[0m\n",
      "\u001b[0;31mTypeError\u001b[0m: 'Summary' object is not iterable"
     ]
    }
   ],
   "source": [
    "    (alpha_CAPM,t_alpha,belta_mkt)=(do_regression_CAPM(R_25_group,Rm_Rf))\n",
    "    alpha_CAPM\n",
    "    t_alpha\n",
    "    belta_mkt"
   ]
  }
 ],
 "metadata": {
  "celltoolbar": "Edit Metadata",
  "kernelspec": {
   "display_name": "Python 3",
   "language": "python",
   "name": "python3"
  },
  "language_info": {
   "codemirror_mode": {
    "name": "ipython",
    "version": 3
   },
   "file_extension": ".py",
   "mimetype": "text/x-python",
   "name": "python",
   "nbconvert_exporter": "python",
   "pygments_lexer": "ipython3",
   "version": "3.6.0"
  }
 },
 "nbformat": 4,
 "nbformat_minor": 2
}
